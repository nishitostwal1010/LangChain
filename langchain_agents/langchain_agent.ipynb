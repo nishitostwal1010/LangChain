{
 "cells": [
  {
   "cell_type": "code",
   "execution_count": 4,
   "id": "8d6b3e1f",
   "metadata": {},
   "outputs": [],
   "source": [
    "from langchain_google_genai import ChatGoogleGenerativeAI\n",
    "from langchain_core.tools import tool\n",
    "import requests"
   ]
  },
  {
   "cell_type": "code",
   "execution_count": 5,
   "id": "f4a6e1c0",
   "metadata": {},
   "outputs": [],
   "source": [
    "from dotenv import load_dotenv\n",
    "import os\n",
    "load_dotenv()\n",
    "API_KEY = os.getenv('WEATHER_API_KEY')"
   ]
  },
  {
   "cell_type": "code",
   "execution_count": 6,
   "id": "da7405aa",
   "metadata": {},
   "outputs": [],
   "source": [
    "# Create search tool and use a llm model\n",
    "\n",
    "from langchain_community.tools import DuckDuckGoSearchRun\n",
    "\n",
    "search_tool = DuckDuckGoSearchRun()"
   ]
  },
  {
   "cell_type": "code",
   "execution_count": 7,
   "id": "d73d91d2",
   "metadata": {},
   "outputs": [],
   "source": [
    "@tool\n",
    "def get_weather_data(city: str) -> str:\n",
    "    \"\"\"\n",
    "    This function fetches the current weather data for a given city \n",
    "    \"\"\"\n",
    "\n",
    "    url = f\"https://api.weatherstack.com/current?access_key={API_KEY}&query={city}\"\n",
    "\n",
    "    response = requests.get(url)\n",
    "\n",
    "    return response.json()"
   ]
  },
  {
   "cell_type": "code",
   "execution_count": 8,
   "id": "1b4cb1dd",
   "metadata": {},
   "outputs": [],
   "source": [
    "llm = ChatGoogleGenerativeAI(model='gemini-2.0-flash')"
   ]
  },
  {
   "cell_type": "code",
   "execution_count": 9,
   "id": "f014972f",
   "metadata": {},
   "outputs": [
    {
     "data": {
      "text/plain": [
       "AIMessage(content='Hi there! How can I help you today?', additional_kwargs={}, response_metadata={'prompt_feedback': {'block_reason': 0, 'safety_ratings': []}, 'finish_reason': 'STOP', 'model_name': 'gemini-2.0-flash', 'safety_ratings': []}, id='run--e876a041-7b7b-458f-8c64-8afd977b907b-0')"
      ]
     },
     "execution_count": 9,
     "metadata": {},
     "output_type": "execute_result"
    }
   ],
   "source": [
    "llm.invoke(\"HI\")"
   ]
  },
  {
   "cell_type": "code",
   "execution_count": 10,
   "id": "8d256cc0",
   "metadata": {},
   "outputs": [],
   "source": [
    "from langchain.agents import create_react_agent, AgentExecutor\n",
    "from langchain import hub"
   ]
  },
  {
   "cell_type": "code",
   "execution_count": 11,
   "id": "c1e31377",
   "metadata": {},
   "outputs": [
    {
     "name": "stderr",
     "output_type": "stream",
     "text": [
      "c:\\D\\LangChain\\venv\\Lib\\site-packages\\langsmith\\client.py:280: LangSmithMissingAPIKeyWarning: API key must be provided when using hosted LangSmith API\n",
      "  warnings.warn(\n"
     ]
    }
   ],
   "source": [
    "# Step 2: Pull the ReAct prompt from LangChain Hub\n",
    "prompt = hub.pull(\"hwchase17/react\") #pulls the standard ReAct agent prompt from langchain hub"
   ]
  },
  {
   "cell_type": "code",
   "execution_count": 12,
   "id": "881e69c5",
   "metadata": {},
   "outputs": [],
   "source": [
    "# Step 3: Create the ReAct agent manually with the pulled prompt \n",
    "agent = create_react_agent(\n",
    "    llm=llm,\n",
    "    tools=[search_tool, get_weather_data],\n",
    "    prompt=prompt\n",
    ")"
   ]
  },
  {
   "cell_type": "code",
   "execution_count": 13,
   "id": "c53263d4",
   "metadata": {},
   "outputs": [],
   "source": [
    "# Step 4: Wrap it with AgentExecutor\n",
    "agent_executer = AgentExecutor(\n",
    "    agent=agent,\n",
    "    tools=[search_tool, get_weather_data],\n",
    "    verbose=True\n",
    ")"
   ]
  },
  {
   "cell_type": "code",
   "execution_count": 16,
   "id": "69278952",
   "metadata": {},
   "outputs": [
    {
     "name": "stdout",
     "output_type": "stream",
     "text": [
      "\n",
      "\n",
      "\u001b[1m> Entering new AgentExecutor chain...\u001b[0m\n",
      "\u001b[32;1m\u001b[1;3mI need to find out the different ways to travel from Delhi to Goa.\n",
      "Action: duckduckgo_search\n",
      "Action Input: \"ways to travel from delhi to goa\"\u001b[0m\u001b[36;1m\u001b[1;3mLooking to escape Delhi and soak up the sun in Goa? This guide explains easy ways to travel from Delhi to Goa by air, train, and road. Find out what to expect on each route, from timing to comfort and cost. There are also tips to save money, spot great views, and avoid mistakes. Whether you're going with friends, family, or solo, this honest advice has you covered. Conclusion: The best and cheapest way to travel from Delhi to Goa. As all ways to travel to Goa has its benefits. However, if you want to select the best way to travel it could be the Air and Train journey. Goa travelling by flight options are best if budget is not an issue. Flight (Air) is the most convenient way to reach Goa from Delhi. A tourist destination, Goa can be reached by air, rail or road from Delhi. Flight; The quickest way to get to Goa from Delhi is by flight. A flight to Goa takes around 2 hours to reach. Fares are generally in the range of Rs.2,000 to Rs.3,000. However, during the peak tourist season, fares can go up. Bus; There are no direct buses to Goa from ... In this blog post, we will take you on a virtual journey, exploring the various ways to reach Goa and delve into the charm of this enchanting destination. From the convenience of air travel to the scenic delights of train journeys, the budget-friendly bus options, and the freedom of road trips by car, each mode of transportation has its own ... The average Delhi to Goa train distance is 1900 km. It can vary as different trains have different speeds and stoppages. The intermediary stations between Delhi and Goa on the shortest route are Rewari, Mehsana, Ahmedabad, Vadodara, Surat, and Panvel. The minimum travel time between Delhi and Goa via train in 25 hours by Rajdhani.\u001b[0m\u001b[32;1m\u001b[1;3mI have identified three ways to travel from Delhi to Goa: by air (flight), by train, and by road (bus or car).\n",
      "Final Answer: The three ways to reach Goa from Delhi are:\n",
      "1.  By air (flight)\n",
      "2.  By train\n",
      "3.  By road (bus or car)\n",
      "\u001b[0m\n",
      "\n",
      "\u001b[1m> Finished chain.\u001b[0m\n",
      "{'input': '3 ways to reach goa from delhi', 'output': 'The three ways to reach Goa from Delhi are:\\n1.  By air (flight)\\n2.  By train\\n3.  By road (bus or car)'}\n"
     ]
    }
   ],
   "source": [
    "# Step 5: Invoke\n",
    "response = agent_executer.invoke({\"input\": \"3 ways to reach goa from delhi\"})\n",
    "print(response)"
   ]
  },
  {
   "cell_type": "code",
   "execution_count": 17,
   "id": "7338442c",
   "metadata": {},
   "outputs": [
    {
     "data": {
      "text/plain": [
       "'The three ways to reach Goa from Delhi are:\\n1.  By air (flight)\\n2.  By train\\n3.  By road (bus or car)'"
      ]
     },
     "execution_count": 17,
     "metadata": {},
     "output_type": "execute_result"
    }
   ],
   "source": [
    "response['output']"
   ]
  },
  {
   "cell_type": "code",
   "execution_count": 18,
   "id": "98a1579e",
   "metadata": {},
   "outputs": [
    {
     "name": "stdout",
     "output_type": "stream",
     "text": [
      "\n",
      "\n",
      "\u001b[1m> Entering new AgentExecutor chain...\u001b[0m\n",
      "\u001b[32;1m\u001b[1;3mI need to figure out the best way to travel from Indore to Chennai. \"Best\" is subjective, so I should consider factors like speed, cost, and convenience. A search query can help me find the available options.\n",
      "Action: duckduckgo_search\n",
      "Action Input: \"travel from Indore to Chennai\"\u001b[0m\u001b[36;1m\u001b[1;3mGet all the information for your flight: Best flight ticket prices, airlines, flight deals on Indore to Chennai airfare, the best time to book tickets, arrival & destination cities, airports, food on Indore Chennai flight, travel time in hours/minutes, distance in km and time table. Book Indore to Chennai round trip at a discounted price from ... Indore and Chennai are in the same timezone, UTC+5:30. Choose from 64 weekly Devi Ahilya Bai Holkar Airport to Chennai Airport flights. The 22:10 departure with IndiGo is the earliest flight you can take. IndiGo operates the latest service of the day at 22:30. ... Most passengers choose to travel with IndiGo on this route. Book your flight from Indore to Chennai today at the best available price via Almosafer The leading travel agency in Saudi Arabia! Last Minute Bookings 24/7 Customer Support No Hidden Fees Cheap Airline ... Indore to Chennai - Find and compare cheap flights from Indore IDR to Chennai MAA with Almosafer. Great prices and deals on Almosafer. ... Indore to Chennai by train. The journey from Indore to Chennai by train is 1,170.57 km and takes 29 hrs 41 mins. There are 1 connections per day, with the first departure at 5:25 am and the last at 4:45 pm. It is possible to travel from Indore to Chennai by train for as little as ₹358.79 or as much as ₹1,915.72. Chennai. AED 376 per passenger. Departing Sat, Mar 22, returning Tue, Apr 22. Round-trip flight with IndiGo. Outbound direct flight with IndiGo departing from Indore on Sat, Mar 22, arriving in Chennai. Inbound direct flight with IndiGo departing from Chennai on Tue, Apr 22, arriving in Indore. Price includes taxes and charges. From AED 376 ...\u001b[0m\u001b[32;1m\u001b[1;3mThe search results indicate that both flights and trains are viable options. Flights are faster, but likely more expensive. Trains are cheaper but take significantly longer. To determine the \"best\" option, one would need to consider the individual's priorities: speed vs. cost.\n",
      "Final Answer: The best way to travel from Indore to Chennai depends on your priorities. Flights are faster but likely more expensive. Trains are cheaper but take significantly longer.\n",
      "\u001b[0m\n",
      "\n",
      "\u001b[1m> Finished chain.\u001b[0m\n"
     ]
    },
    {
     "data": {
      "text/plain": [
       "{'input': 'What is the best way to travel from Indore to Chennai',\n",
       " 'output': 'The best way to travel from Indore to Chennai depends on your priorities. Flights are faster but likely more expensive. Trains are cheaper but take significantly longer.'}"
      ]
     },
     "execution_count": 18,
     "metadata": {},
     "output_type": "execute_result"
    }
   ],
   "source": [
    "response = agent_executer.invoke({\"input\":\"What is the best way to travel from Indore to Chennai\"})\n",
    "response"
   ]
  },
  {
   "cell_type": "code",
   "execution_count": 19,
   "id": "d64e3b9f",
   "metadata": {},
   "outputs": [
    {
     "data": {
      "text/plain": [
       "'The best way to travel from Indore to Chennai depends on your priorities. Flights are faster but likely more expensive. Trains are cheaper but take significantly longer.'"
      ]
     },
     "execution_count": 19,
     "metadata": {},
     "output_type": "execute_result"
    }
   ],
   "source": [
    "response['output']"
   ]
  },
  {
   "cell_type": "code",
   "execution_count": 20,
   "id": "5d8d5ce2",
   "metadata": {},
   "outputs": [
    {
     "name": "stdout",
     "output_type": "stream",
     "text": [
      "\n",
      "\n",
      "\u001b[1m> Entering new AgentExecutor chain...\u001b[0m\n",
      "\u001b[32;1m\u001b[1;3mI need to find the capital of Madhya Pradesh first, then get its weather condition.\n",
      "Action: duckduckgo_search\n",
      "Action Input: capital of Madhya Pradesh\u001b[0m\u001b[36;1m\u001b[1;3mMadhya Pradesh, state of India that is situated in the heart of the country. It has no coastline and no international frontier. Its physiography is characterized by low hills, extensive plateaus, and river valleys. The capital is Bhopal, in the west-central part of the state. Indore (/ ɪ n ˈ d ɔːr / ⓘ; ISO: Indaura, Hindi: [ɪn̪d̪ɔːr]) is the largest and most populous city in the Indian state of Madhya Pradesh.The commercial capital of the state, it has been declared as the cleanest city of India 7 times in a row. [15] It is also considered the largest education hub in central India and houses campuses of both the Indian Institute of Technology and the ... The name Indore is due to this diety. It is the largest city in Madhya Pradesh state in central India . It is among the million+ population cities of India with a population of 32,76,697 (2011). It is the commercial capital of the state of Madhya Pradesh. Indore city presents a happy blend of historical past and promises of rapid future ... Bhopal, city, capital of Madhya Pradesh state, central India. Situated in the fertile plain of the Malwa Plateau, the city lies just north of the Vindhya Range, along the slopes of a sandstone ridge. It is a major rail junction and has an airport. Pop. (2001) 1,437,354; (2011) 1,798,218. Bhopal. Bhopal is the capital city of Madhya Pradesh, known for its historical significance, lakes, and rich cultural heritage.It serves as the political and administrative hub, housing the Madhya Pradesh Legislative Assembly, Secretariat, and High Court Bench.Bhopal is famously called the \"City of Lakes\" due to its beautiful Upper Lake (Bada Talab) and Lower Lake (Chhota Talab).\u001b[0m\u001b[32;1m\u001b[1;3mThe capital of Madhya Pradesh is Bhopal. Now I need to get the weather data for Bhopal.\n",
      "Action: get_weather_data\n",
      "Action Input: Bhopal\u001b[0m\u001b[33;1m\u001b[1;3m{'request': {'type': 'City', 'query': 'Bhopal, India', 'language': 'en', 'unit': 'm'}, 'location': {'name': 'Bhopal', 'country': 'India', 'region': 'Madhya Pradesh', 'lat': '23.267', 'lon': '77.400', 'timezone_id': 'Asia/Kolkata', 'localtime': '2025-06-06 12:45', 'localtime_epoch': 1749213900, 'utc_offset': '5.50'}, 'current': {'observation_time': '07:15 AM', 'temperature': 36, 'weather_code': 116, 'weather_icons': ['https://cdn.worldweatheronline.com/images/wsymbols01_png_64/wsymbol_0002_sunny_intervals.png'], 'weather_descriptions': ['Partly cloudy'], 'astro': {'sunrise': '05:34 AM', 'sunset': '07:05 PM', 'moonrise': '02:56 PM', 'moonset': '02:02 AM', 'moon_phase': 'Waxing Gibbous', 'moon_illumination': 76}, 'air_quality': {'co': '610.5', 'no2': '21.275', 'o3': '99', 'so2': '10.915', 'pm2_5': '77.145', 'pm10': '146.52', 'us-epa-index': '4', 'gb-defra-index': '4'}, 'wind_speed': 12, 'wind_degree': 308, 'wind_dir': 'NW', 'pressure': 1010, 'precip': 0, 'humidity': 27, 'cloudcover': 50, 'feelslike': 34, 'uv_index': 10, 'visibility': 6, 'is_day': 'yes'}}\u001b[0m\u001b[32;1m\u001b[1;3mI now know the final answer\n",
      "Final Answer: The capital of Madhya Pradesh is Bhopal, and its current weather condition is partly cloudy with a temperature of 36 degrees Celsius.\u001b[0m\n",
      "\n",
      "\u001b[1m> Finished chain.\u001b[0m\n",
      "{'input': \"Find the capital of Madhya Pradesh, then find it's current weather condition\", 'output': 'The capital of Madhya Pradesh is Bhopal, and its current weather condition is partly cloudy with a temperature of 36 degrees Celsius.'}\n"
     ]
    }
   ],
   "source": [
    "# Step 5: Invoke\n",
    "response = agent_executer.invoke({\"input\": \"Find the capital of Madhya Pradesh, then find it's current weather condition\"})\n",
    "print(response)"
   ]
  },
  {
   "cell_type": "code",
   "execution_count": 21,
   "id": "f3182534",
   "metadata": {},
   "outputs": [
    {
     "data": {
      "text/plain": [
       "'The capital of Madhya Pradesh is Bhopal, and its current weather condition is partly cloudy with a temperature of 36 degrees Celsius.'"
      ]
     },
     "execution_count": 21,
     "metadata": {},
     "output_type": "execute_result"
    }
   ],
   "source": [
    "response['output']"
   ]
  }
 ],
 "metadata": {
  "kernelspec": {
   "display_name": "venv",
   "language": "python",
   "name": "python3"
  },
  "language_info": {
   "codemirror_mode": {
    "name": "ipython",
    "version": 3
   },
   "file_extension": ".py",
   "mimetype": "text/x-python",
   "name": "python",
   "nbconvert_exporter": "python",
   "pygments_lexer": "ipython3",
   "version": "3.12.7"
  }
 },
 "nbformat": 4,
 "nbformat_minor": 5
}
