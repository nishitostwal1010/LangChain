{
 "cells": [
  {
   "cell_type": "code",
   "execution_count": null,
   "id": "00c56195",
   "metadata": {},
   "outputs": [],
   "source": [
    "from langchain_google_genai import ChatGoogleGenerativeAI\n",
    "from langchain_core.tools import tool\n",
    "from langchain_core.messages import HumanMessage\n",
    "import requests"
   ]
  },
  {
   "cell_type": "code",
   "execution_count": 12,
   "id": "9f9d9fc5",
   "metadata": {},
   "outputs": [
    {
     "data": {
      "text/plain": [
       "True"
      ]
     },
     "execution_count": 12,
     "metadata": {},
     "output_type": "execute_result"
    }
   ],
   "source": [
    "from dotenv import load_dotenv\n",
    "load_dotenv()"
   ]
  },
  {
   "cell_type": "markdown",
   "id": "3d107249",
   "metadata": {},
   "source": [
    "# Tool Creation"
   ]
  },
  {
   "cell_type": "code",
   "execution_count": 4,
   "id": "9e25666d",
   "metadata": {},
   "outputs": [],
   "source": [
    "# tool create\n",
    "\n",
    "@tool\n",
    "def multiply(a:int, b:int) -> int:\n",
    "    \"\"\"Given 2 numbers a and b this tool returns their product\"\"\"\n",
    "    return a*b"
   ]
  },
  {
   "cell_type": "code",
   "execution_count": 5,
   "id": "fc2a04ff",
   "metadata": {},
   "outputs": [
    {
     "name": "stdout",
     "output_type": "stream",
     "text": [
      "6\n"
     ]
    }
   ],
   "source": [
    "print(multiply.invoke({'a':2,'b':3}))"
   ]
  },
  {
   "cell_type": "code",
   "execution_count": 6,
   "id": "0133f467",
   "metadata": {},
   "outputs": [
    {
     "data": {
      "text/plain": [
       "'multiply'"
      ]
     },
     "execution_count": 6,
     "metadata": {},
     "output_type": "execute_result"
    }
   ],
   "source": [
    "multiply.name"
   ]
  },
  {
   "cell_type": "code",
   "execution_count": 7,
   "id": "5c2528dd",
   "metadata": {},
   "outputs": [
    {
     "data": {
      "text/plain": [
       "'Given 2 numbers a and b this tool returns their product'"
      ]
     },
     "execution_count": 7,
     "metadata": {},
     "output_type": "execute_result"
    }
   ],
   "source": [
    "multiply.description"
   ]
  },
  {
   "cell_type": "code",
   "execution_count": 8,
   "id": "da0d5a0e",
   "metadata": {},
   "outputs": [
    {
     "data": {
      "text/plain": [
       "{'a': {'title': 'A', 'type': 'integer'},\n",
       " 'b': {'title': 'B', 'type': 'integer'}}"
      ]
     },
     "execution_count": 8,
     "metadata": {},
     "output_type": "execute_result"
    }
   ],
   "source": [
    "multiply.args"
   ]
  },
  {
   "cell_type": "markdown",
   "id": "f3bf0140",
   "metadata": {},
   "source": [
    "# Tool Binding"
   ]
  },
  {
   "cell_type": "code",
   "execution_count": 13,
   "id": "ff99ea23",
   "metadata": {},
   "outputs": [],
   "source": [
    "llm = ChatGoogleGenerativeAI(model='gemini-2.0-flash')"
   ]
  },
  {
   "cell_type": "code",
   "execution_count": 14,
   "id": "6f982a81",
   "metadata": {},
   "outputs": [],
   "source": [
    "llm_with_tools = llm.bind_tools([multiply])"
   ]
  },
  {
   "cell_type": "code",
   "execution_count": 15,
   "id": "28a5007d",
   "metadata": {},
   "outputs": [
    {
     "data": {
      "text/plain": [
       "AIMessage(content='I am doing well, thank you for asking. How can I help you today?', additional_kwargs={}, response_metadata={'prompt_feedback': {'block_reason': 0, 'safety_ratings': []}, 'finish_reason': 'STOP', 'model_name': 'gemini-2.0-flash', 'safety_ratings': []}, id='run--83b5b208-c0b2-411b-8e85-c3c08bb1e0e9-0')"
      ]
     },
     "execution_count": 15,
     "metadata": {},
     "output_type": "execute_result"
    }
   ],
   "source": [
    "llm_with_tools.invoke(\"Hi how are you\")"
   ]
  },
  {
   "cell_type": "markdown",
   "id": "05a87694",
   "metadata": {},
   "source": [
    "# Tool Calling"
   ]
  },
  {
   "cell_type": "code",
   "execution_count": 18,
   "id": "3e43df8a",
   "metadata": {},
   "outputs": [
    {
     "name": "stdout",
     "output_type": "stream",
     "text": [
      "content='' additional_kwargs={'function_call': {'name': 'multiply', 'arguments': '{\"a\": 3.0, \"b\": 10.0}'}} response_metadata={'prompt_feedback': {'block_reason': 0, 'safety_ratings': []}, 'finish_reason': 'STOP', 'model_name': 'gemini-2.0-flash', 'safety_ratings': []} id='run--4554ef63-b1ce-484f-90aa-d8bd0c386d4f-0' tool_calls=[{'name': 'multiply', 'args': {'a': 3.0, 'b': 10.0}, 'id': '48cd6021-bb21-4911-8713-f8975990b48c', 'type': 'tool_call'}]\n"
     ]
    }
   ],
   "source": [
    "result = llm_with_tools.invoke(\"Can you multiply 3 with 10\")\n",
    "print(result)"
   ]
  },
  {
   "cell_type": "code",
   "execution_count": 19,
   "id": "469a1b52",
   "metadata": {},
   "outputs": [
    {
     "data": {
      "text/plain": [
       "[{'name': 'multiply',\n",
       "  'args': {'a': 3.0, 'b': 10.0},\n",
       "  'id': '48cd6021-bb21-4911-8713-f8975990b48c',\n",
       "  'type': 'tool_call'}]"
      ]
     },
     "execution_count": 19,
     "metadata": {},
     "output_type": "execute_result"
    }
   ],
   "source": [
    "result.tool_calls # List of all the tools which can be used"
   ]
  },
  {
   "cell_type": "code",
   "execution_count": 20,
   "id": "2b4cd0d5",
   "metadata": {},
   "outputs": [
    {
     "data": {
      "text/plain": [
       "{'name': 'multiply',\n",
       " 'args': {'a': 3.0, 'b': 10.0},\n",
       " 'id': '48cd6021-bb21-4911-8713-f8975990b48c',\n",
       " 'type': 'tool_call'}"
      ]
     },
     "execution_count": 20,
     "metadata": {},
     "output_type": "execute_result"
    }
   ],
   "source": [
    "result.tool_calls[0] # The first tool which can be usedd"
   ]
  },
  {
   "cell_type": "markdown",
   "id": "6fcb3940",
   "metadata": {},
   "source": [
    "# Tool Execution"
   ]
  },
  {
   "cell_type": "code",
   "execution_count": 21,
   "id": "37673a8a",
   "metadata": {},
   "outputs": [
    {
     "data": {
      "text/plain": [
       "30"
      ]
     },
     "execution_count": 21,
     "metadata": {},
     "output_type": "execute_result"
    }
   ],
   "source": [
    "# If we pass the args then we will get the result\n",
    "multiply.invoke(result.tool_calls[0]['args'])"
   ]
  },
  {
   "cell_type": "code",
   "execution_count": 22,
   "id": "c8bf840b",
   "metadata": {},
   "outputs": [
    {
     "data": {
      "text/plain": [
       "ToolMessage(content='30', name='multiply', tool_call_id='48cd6021-bb21-4911-8713-f8975990b48c')"
      ]
     },
     "execution_count": 22,
     "metadata": {},
     "output_type": "execute_result"
    }
   ],
   "source": [
    "# If we pass the whole tool call then we get ToolMessage as result\n",
    "multiply.invoke(result.tool_calls[0])"
   ]
  },
  {
   "cell_type": "markdown",
   "id": "bf676394",
   "metadata": {},
   "source": [
    "# Sample"
   ]
  },
  {
   "cell_type": "code",
   "execution_count": 36,
   "id": "fa383d48",
   "metadata": {},
   "outputs": [],
   "source": [
    "query = HumanMessage(\"Can you multiply 3 and 10\")"
   ]
  },
  {
   "cell_type": "code",
   "execution_count": 37,
   "id": "218d3b74",
   "metadata": {},
   "outputs": [],
   "source": [
    "messages = [query]"
   ]
  },
  {
   "cell_type": "code",
   "execution_count": 38,
   "id": "88ac08df",
   "metadata": {},
   "outputs": [
    {
     "data": {
      "text/plain": [
       "[HumanMessage(content='Can you multiply 3 and 10', additional_kwargs={}, response_metadata={})]"
      ]
     },
     "execution_count": 38,
     "metadata": {},
     "output_type": "execute_result"
    }
   ],
   "source": [
    "messages"
   ]
  },
  {
   "cell_type": "code",
   "execution_count": null,
   "id": "bf71eb1b",
   "metadata": {},
   "outputs": [],
   "source": [
    "result = llm_with_tools.invoke(messages)"
   ]
  },
  {
   "cell_type": "code",
   "execution_count": 40,
   "id": "395ee91c",
   "metadata": {},
   "outputs": [],
   "source": [
    "messages.append(result)"
   ]
  },
  {
   "cell_type": "code",
   "execution_count": 41,
   "id": "370ee6e8",
   "metadata": {},
   "outputs": [
    {
     "data": {
      "text/plain": [
       "[HumanMessage(content='Can you multiply 3 and 10', additional_kwargs={}, response_metadata={}),\n",
       " AIMessage(content='', additional_kwargs={'function_call': {'name': 'multiply', 'arguments': '{\"a\": 3.0, \"b\": 10.0}'}}, response_metadata={'prompt_feedback': {'block_reason': 0, 'safety_ratings': []}, 'finish_reason': 'STOP', 'model_name': 'gemini-2.0-flash', 'safety_ratings': []}, id='run--a6abab8c-97c2-4ead-a9cc-1f85c20d8cd0-0', tool_calls=[{'name': 'multiply', 'args': {'a': 3.0, 'b': 10.0}, 'id': '54ead17d-c48d-48a0-b3a2-2691ae8a5af3', 'type': 'tool_call'}])]"
      ]
     },
     "execution_count": 41,
     "metadata": {},
     "output_type": "execute_result"
    }
   ],
   "source": [
    "messages"
   ]
  },
  {
   "cell_type": "code",
   "execution_count": 42,
   "id": "5fb84404",
   "metadata": {},
   "outputs": [],
   "source": [
    "tool_result = multiply.invoke(result.tool_calls[0])"
   ]
  },
  {
   "cell_type": "code",
   "execution_count": 43,
   "id": "cf452ac5",
   "metadata": {},
   "outputs": [],
   "source": [
    "messages.append(tool_result)"
   ]
  },
  {
   "cell_type": "code",
   "execution_count": 44,
   "id": "71a0f2cf",
   "metadata": {},
   "outputs": [
    {
     "data": {
      "text/plain": [
       "[HumanMessage(content='Can you multiply 3 and 10', additional_kwargs={}, response_metadata={}),\n",
       " AIMessage(content='', additional_kwargs={'function_call': {'name': 'multiply', 'arguments': '{\"a\": 3.0, \"b\": 10.0}'}}, response_metadata={'prompt_feedback': {'block_reason': 0, 'safety_ratings': []}, 'finish_reason': 'STOP', 'model_name': 'gemini-2.0-flash', 'safety_ratings': []}, id='run--a6abab8c-97c2-4ead-a9cc-1f85c20d8cd0-0', tool_calls=[{'name': 'multiply', 'args': {'a': 3.0, 'b': 10.0}, 'id': '54ead17d-c48d-48a0-b3a2-2691ae8a5af3', 'type': 'tool_call'}]),\n",
       " ToolMessage(content='30', name='multiply', tool_call_id='54ead17d-c48d-48a0-b3a2-2691ae8a5af3')]"
      ]
     },
     "execution_count": 44,
     "metadata": {},
     "output_type": "execute_result"
    }
   ],
   "source": [
    "messages"
   ]
  },
  {
   "cell_type": "code",
   "execution_count": 45,
   "id": "e64b507c",
   "metadata": {},
   "outputs": [
    {
     "data": {
      "text/plain": [
       "AIMessage(content='3 multiplied by 10 is 30.', additional_kwargs={}, response_metadata={'prompt_feedback': {'block_reason': 0, 'safety_ratings': []}, 'finish_reason': 'STOP', 'model_name': 'gemini-2.0-flash', 'safety_ratings': []}, id='run--60587433-de90-4891-befa-7968967c074d-0')"
      ]
     },
     "execution_count": 45,
     "metadata": {},
     "output_type": "execute_result"
    }
   ],
   "source": [
    "llm_with_tools.invoke(messages)"
   ]
  },
  {
   "cell_type": "code",
   "execution_count": 46,
   "id": "cdd747fd",
   "metadata": {},
   "outputs": [
    {
     "data": {
      "text/plain": [
       "'3 multiplied by 10 is 30.'"
      ]
     },
     "execution_count": 46,
     "metadata": {},
     "output_type": "execute_result"
    }
   ],
   "source": [
    "llm_with_tools.invoke(messages).content"
   ]
  }
 ],
 "metadata": {
  "kernelspec": {
   "display_name": "venv",
   "language": "python",
   "name": "python3"
  },
  "language_info": {
   "codemirror_mode": {
    "name": "ipython",
    "version": 3
   },
   "file_extension": ".py",
   "mimetype": "text/x-python",
   "name": "python",
   "nbconvert_exporter": "python",
   "pygments_lexer": "ipython3",
   "version": "3.12.7"
  }
 },
 "nbformat": 4,
 "nbformat_minor": 5
}
