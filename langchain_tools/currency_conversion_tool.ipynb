{
 "cells": [
  {
   "cell_type": "code",
   "execution_count": 137,
   "id": "434ce98c",
   "metadata": {},
   "outputs": [],
   "source": [
    "from langchain_google_genai import ChatGoogleGenerativeAI\n",
    "from langchain_core.tools import tool\n",
    "from langchain_core.messages import HumanMessage\n",
    "import requests"
   ]
  },
  {
   "cell_type": "code",
   "execution_count": 138,
   "id": "ae881214",
   "metadata": {},
   "outputs": [],
   "source": [
    "from langchain_core.tools import InjectedToolArg \n",
    "from typing import Annotated"
   ]
  },
  {
   "cell_type": "markdown",
   "id": "ff2da700",
   "metadata": {},
   "source": [
    "As we are using 1st tool and getting conversion rate between two currencies. <br>\n",
    "\n",
    "So until we don't get the conversion_rate, we can't use the 2nd tool and multiply conversion rate with base currency value. <br>\n",
    "\n",
    "That is the reason of using InjectedToolArg it specifies that the argument is going to get injected afterwards.<br>\n",
    "\n",
    "But we don't need to use it if the LLM is not giving suggestion for both tools, if it is giving suggestion for 1st tool only then we can append the response and send the messages again to LLM so it will directly take the actual conversion rate value from messages.\n"
   ]
  },
  {
   "cell_type": "code",
   "execution_count": 157,
   "id": "4909a815",
   "metadata": {},
   "outputs": [
    {
     "data": {
      "text/plain": [
       "True"
      ]
     },
     "execution_count": 157,
     "metadata": {},
     "output_type": "execute_result"
    }
   ],
   "source": [
    "from dotenv import load_dotenv\n",
    "load_dotenv()"
   ]
  },
  {
   "cell_type": "code",
   "execution_count": 159,
   "id": "b9e2a4e5",
   "metadata": {},
   "outputs": [],
   "source": [
    "# Tool creation\n",
    "\n",
    "@tool\n",
    "def get_conversion_factor(base_currency: str, target_currency: str) -> float:\n",
    "    \"\"\"This function fetches a currency conversion factor between a base currency and a target currency\"\"\"\n",
    "\n",
    "    url=f'https://v6.exchangerate-api.com/v6/39485ea570f1b0350e478633/pair/{base_currency}/{target_currency}'\n",
    "\n",
    "    response = requests.get(url)\n",
    "\n",
    "    return response.json()\n",
    "\n",
    "@tool\n",
    "# def convert(base_currency_value: float, conversion_rate: Annotated[float, InjectedToolArg]) -> float:\n",
    "# Not using InjectedToolArg as the model is only suggesting 1st tool so we can directly take the conversion rate after executing 1st tool\n",
    "def convert(base_currency_value: float, conversion_rate: float) -> float:\n",
    "    \"\"\"Given a currency conversion rate this function calculates the target currency value from a given base currency value\"\"\"\n",
    "\n",
    "    return base_currency_value * conversion_rate"
   ]
  },
  {
   "cell_type": "code",
   "execution_count": 160,
   "id": "5dda1107",
   "metadata": {},
   "outputs": [
    {
     "data": {
      "text/plain": [
       "{'result': 'success',\n",
       " 'documentation': 'https://www.exchangerate-api.com/docs',\n",
       " 'terms_of_use': 'https://www.exchangerate-api.com/terms',\n",
       " 'time_last_update_unix': 1748822401,\n",
       " 'time_last_update_utc': 'Mon, 02 Jun 2025 00:00:01 +0000',\n",
       " 'time_next_update_unix': 1748908801,\n",
       " 'time_next_update_utc': 'Tue, 03 Jun 2025 00:00:01 +0000',\n",
       " 'base_code': 'USD',\n",
       " 'target_code': 'INR',\n",
       " 'conversion_rate': 85.6031}"
      ]
     },
     "execution_count": 160,
     "metadata": {},
     "output_type": "execute_result"
    }
   ],
   "source": [
    "response = get_conversion_factor.invoke({'base_currency': 'USD', 'target_currency': 'INR'})\n",
    "response"
   ]
  },
  {
   "cell_type": "code",
   "execution_count": 161,
   "id": "1456c9b8",
   "metadata": {},
   "outputs": [
    {
     "data": {
      "text/plain": [
       "856.031"
      ]
     },
     "execution_count": 161,
     "metadata": {},
     "output_type": "execute_result"
    }
   ],
   "source": [
    "result = convert.invoke({'base_currency_value': 10, 'conversion_rate': response['conversion_rate']})\n",
    "result"
   ]
  },
  {
   "cell_type": "code",
   "execution_count": 162,
   "id": "23874d81",
   "metadata": {},
   "outputs": [],
   "source": [
    "# Tool binding\n",
    "\n",
    "llm = ChatGoogleGenerativeAI(model='gemini-2.0-flash')\n",
    "\n",
    "llm_with_tools = llm.bind_tools([get_conversion_factor, convert])"
   ]
  },
  {
   "cell_type": "code",
   "execution_count": 163,
   "id": "ec505d48",
   "metadata": {},
   "outputs": [
    {
     "data": {
      "text/plain": [
       "[HumanMessage(content='What is the conversion factor between USD and INR, and based on that convert 10 usd to inr', additional_kwargs={}, response_metadata={})]"
      ]
     },
     "execution_count": 163,
     "metadata": {},
     "output_type": "execute_result"
    }
   ],
   "source": [
    "# Tool calling\n",
    "\n",
    "messages = [HumanMessage(\"What is the conversion factor between USD and INR, and based on that convert 10 usd to inr\")]\n",
    "messages"
   ]
  },
  {
   "cell_type": "code",
   "execution_count": 164,
   "id": "c8b23ac0",
   "metadata": {},
   "outputs": [
    {
     "data": {
      "text/plain": [
       "AIMessage(content='', additional_kwargs={'function_call': {'name': 'get_conversion_factor', 'arguments': '{\"target_currency\": \"INR\", \"base_currency\": \"USD\"}'}}, response_metadata={'prompt_feedback': {'block_reason': 0, 'safety_ratings': []}, 'finish_reason': 'STOP', 'model_name': 'gemini-2.0-flash', 'safety_ratings': []}, id='run--34332e42-4959-49e1-a7e2-5d7c679475b2-0', tool_calls=[{'name': 'get_conversion_factor', 'args': {'target_currency': 'INR', 'base_currency': 'USD'}, 'id': '85c6c6cc-157c-4aa5-9362-a5ee58bc6a3a', 'type': 'tool_call'}])"
      ]
     },
     "execution_count": 164,
     "metadata": {},
     "output_type": "execute_result"
    }
   ],
   "source": [
    "ai_message1 = llm_with_tools.invoke(messages)\n",
    "ai_message1"
   ]
  },
  {
   "cell_type": "code",
   "execution_count": 165,
   "id": "5460285e",
   "metadata": {},
   "outputs": [
    {
     "data": {
      "text/plain": [
       "[{'name': 'get_conversion_factor',\n",
       "  'args': {'target_currency': 'INR', 'base_currency': 'USD'},\n",
       "  'id': '85c6c6cc-157c-4aa5-9362-a5ee58bc6a3a',\n",
       "  'type': 'tool_call'}]"
      ]
     },
     "execution_count": 165,
     "metadata": {},
     "output_type": "execute_result"
    }
   ],
   "source": [
    "ai_message1.tool_calls "
   ]
  },
  {
   "cell_type": "code",
   "execution_count": 166,
   "id": "ce6feaca",
   "metadata": {},
   "outputs": [],
   "source": [
    "messages.append(ai_message1)"
   ]
  },
  {
   "cell_type": "code",
   "execution_count": 167,
   "id": "10a851e9",
   "metadata": {},
   "outputs": [],
   "source": [
    "import json\n",
    "# As the API returns a json-fomattted string, therefore we use json.loads() which convert it to corresponding Python object(list, int, etc)\n",
    "\n",
    "# Execute the 1st tool and get the value of conversion rate\n",
    "for tool_call in ai_message1.tool_calls:\n",
    "    if tool_call['name']=='get_conversion_factor':\n",
    "        tool_message1 = get_conversion_factor.invoke(tool_call)\n",
    "        # fetch conversion_rate \n",
    "        conversion_rate = json.loads(tool_message1.content)['conversion_rate']\n",
    "        # append this tool message to messages list\n",
    "        messages.append(tool_message1)"
   ]
  },
  {
   "cell_type": "markdown",
   "id": "6aa83899",
   "metadata": {},
   "source": [
    "Now as i got only 1 tool so now i will send the updated messages to llm again\n"
   ]
  },
  {
   "cell_type": "code",
   "execution_count": 168,
   "id": "327714d4",
   "metadata": {},
   "outputs": [
    {
     "name": "stdout",
     "output_type": "stream",
     "text": [
      "[HumanMessage(content='What is the conversion factor between USD and INR, and based on that convert 10 usd to inr', additional_kwargs={}, response_metadata={}), AIMessage(content='', additional_kwargs={'function_call': {'name': 'get_conversion_factor', 'arguments': '{\"target_currency\": \"INR\", \"base_currency\": \"USD\"}'}}, response_metadata={'prompt_feedback': {'block_reason': 0, 'safety_ratings': []}, 'finish_reason': 'STOP', 'model_name': 'gemini-2.0-flash', 'safety_ratings': []}, id='run--34332e42-4959-49e1-a7e2-5d7c679475b2-0', tool_calls=[{'name': 'get_conversion_factor', 'args': {'target_currency': 'INR', 'base_currency': 'USD'}, 'id': '85c6c6cc-157c-4aa5-9362-a5ee58bc6a3a', 'type': 'tool_call'}]), ToolMessage(content='{\"result\": \"success\", \"documentation\": \"https://www.exchangerate-api.com/docs\", \"terms_of_use\": \"https://www.exchangerate-api.com/terms\", \"time_last_update_unix\": 1748822401, \"time_last_update_utc\": \"Mon, 02 Jun 2025 00:00:01 +0000\", \"time_next_update_unix\": 1748908801, \"time_next_update_utc\": \"Tue, 03 Jun 2025 00:00:01 +0000\", \"base_code\": \"USD\", \"target_code\": \"INR\", \"conversion_rate\": 85.6031}', name='get_conversion_factor', tool_call_id='85c6c6cc-157c-4aa5-9362-a5ee58bc6a3a')]\n"
     ]
    }
   ],
   "source": [
    "print(messages)"
   ]
  },
  {
   "cell_type": "code",
   "execution_count": 169,
   "id": "09088dc1",
   "metadata": {},
   "outputs": [
    {
     "data": {
      "text/plain": [
       "AIMessage(content='The conversion factor between USD and INR is 85.6031. I can now convert 10 USD to INR.', additional_kwargs={'function_call': {'name': 'convert', 'arguments': '{\"base_currency_value\": 10.0, \"conversion_rate\": 85.6031}'}}, response_metadata={'prompt_feedback': {'block_reason': 0, 'safety_ratings': []}, 'finish_reason': 'STOP', 'model_name': 'gemini-2.0-flash', 'safety_ratings': []}, id='run--4073f59c-82ae-406c-b3c5-dfa2bc938db9-0', tool_calls=[{'name': 'convert', 'args': {'base_currency_value': 10.0, 'conversion_rate': 85.6031}, 'id': '4e60aede-8620-41e4-8e79-800c5d6446cf', 'type': 'tool_call'}])"
      ]
     },
     "execution_count": 169,
     "metadata": {},
     "output_type": "execute_result"
    }
   ],
   "source": [
    "ai_message2 = llm_with_tools.invoke(messages)\n",
    "ai_message2"
   ]
  },
  {
   "cell_type": "code",
   "execution_count": 170,
   "id": "a7b58a7e",
   "metadata": {},
   "outputs": [
    {
     "data": {
      "text/plain": [
       "[{'name': 'convert',\n",
       "  'args': {'base_currency_value': 10.0, 'conversion_rate': 85.6031},\n",
       "  'id': '4e60aede-8620-41e4-8e79-800c5d6446cf',\n",
       "  'type': 'tool_call'}]"
      ]
     },
     "execution_count": 170,
     "metadata": {},
     "output_type": "execute_result"
    }
   ],
   "source": [
    "ai_message2.tool_calls"
   ]
  },
  {
   "cell_type": "code",
   "execution_count": 171,
   "id": "9558fce3",
   "metadata": {},
   "outputs": [],
   "source": [
    "messages.append(ai_message2)"
   ]
  },
  {
   "cell_type": "code",
   "execution_count": 172,
   "id": "7db267cb",
   "metadata": {},
   "outputs": [],
   "source": [
    "for tool_call in ai_message2.tool_calls:\n",
    "    if tool_call['name']=='convert':\n",
    "        tool_message2 = convert.invoke(tool_call)\n",
    "        # append this tool message to messages list\n",
    "        messages.append(tool_message2)"
   ]
  },
  {
   "cell_type": "code",
   "execution_count": 173,
   "id": "1a7f1225",
   "metadata": {},
   "outputs": [
    {
     "name": "stdout",
     "output_type": "stream",
     "text": [
      "[HumanMessage(content='What is the conversion factor between USD and INR, and based on that convert 10 usd to inr', additional_kwargs={}, response_metadata={}), AIMessage(content='', additional_kwargs={'function_call': {'name': 'get_conversion_factor', 'arguments': '{\"target_currency\": \"INR\", \"base_currency\": \"USD\"}'}}, response_metadata={'prompt_feedback': {'block_reason': 0, 'safety_ratings': []}, 'finish_reason': 'STOP', 'model_name': 'gemini-2.0-flash', 'safety_ratings': []}, id='run--34332e42-4959-49e1-a7e2-5d7c679475b2-0', tool_calls=[{'name': 'get_conversion_factor', 'args': {'target_currency': 'INR', 'base_currency': 'USD'}, 'id': '85c6c6cc-157c-4aa5-9362-a5ee58bc6a3a', 'type': 'tool_call'}]), ToolMessage(content='{\"result\": \"success\", \"documentation\": \"https://www.exchangerate-api.com/docs\", \"terms_of_use\": \"https://www.exchangerate-api.com/terms\", \"time_last_update_unix\": 1748822401, \"time_last_update_utc\": \"Mon, 02 Jun 2025 00:00:01 +0000\", \"time_next_update_unix\": 1748908801, \"time_next_update_utc\": \"Tue, 03 Jun 2025 00:00:01 +0000\", \"base_code\": \"USD\", \"target_code\": \"INR\", \"conversion_rate\": 85.6031}', name='get_conversion_factor', tool_call_id='85c6c6cc-157c-4aa5-9362-a5ee58bc6a3a'), AIMessage(content='The conversion factor between USD and INR is 85.6031. I can now convert 10 USD to INR.', additional_kwargs={'function_call': {'name': 'convert', 'arguments': '{\"base_currency_value\": 10.0, \"conversion_rate\": 85.6031}'}}, response_metadata={'prompt_feedback': {'block_reason': 0, 'safety_ratings': []}, 'finish_reason': 'STOP', 'model_name': 'gemini-2.0-flash', 'safety_ratings': []}, id='run--4073f59c-82ae-406c-b3c5-dfa2bc938db9-0', tool_calls=[{'name': 'convert', 'args': {'base_currency_value': 10.0, 'conversion_rate': 85.6031}, 'id': '4e60aede-8620-41e4-8e79-800c5d6446cf', 'type': 'tool_call'}]), ToolMessage(content='856.031', name='convert', tool_call_id='4e60aede-8620-41e4-8e79-800c5d6446cf')]\n"
     ]
    }
   ],
   "source": [
    "print(messages)"
   ]
  },
  {
   "cell_type": "code",
   "execution_count": 174,
   "id": "c6e055ba",
   "metadata": {},
   "outputs": [
    {
     "data": {
      "text/plain": [
       "AIMessage(content='The conversion factor between USD and INR is 85.6031, and 10 USD is equal to 856.031 INR.', additional_kwargs={}, response_metadata={'prompt_feedback': {'block_reason': 0, 'safety_ratings': []}, 'finish_reason': 'STOP', 'model_name': 'gemini-2.0-flash', 'safety_ratings': []}, id='run--ad8747cd-d625-4d88-a84e-88a78064b349-0')"
      ]
     },
     "execution_count": 174,
     "metadata": {},
     "output_type": "execute_result"
    }
   ],
   "source": [
    "final_result = llm_with_tools.invoke(messages)\n",
    "final_result"
   ]
  },
  {
   "cell_type": "code",
   "execution_count": 175,
   "id": "05e72f29",
   "metadata": {},
   "outputs": [
    {
     "data": {
      "text/plain": [
       "'The conversion factor between USD and INR is 85.6031, and 10 USD is equal to 856.031 INR.'"
      ]
     },
     "execution_count": 175,
     "metadata": {},
     "output_type": "execute_result"
    }
   ],
   "source": [
    "final_result.content"
   ]
  }
 ],
 "metadata": {
  "kernelspec": {
   "display_name": "venv",
   "language": "python",
   "name": "python3"
  },
  "language_info": {
   "codemirror_mode": {
    "name": "ipython",
    "version": 3
   },
   "file_extension": ".py",
   "mimetype": "text/x-python",
   "name": "python",
   "nbconvert_exporter": "python",
   "pygments_lexer": "ipython3",
   "version": "3.12.7"
  }
 },
 "nbformat": 4,
 "nbformat_minor": 5
}
