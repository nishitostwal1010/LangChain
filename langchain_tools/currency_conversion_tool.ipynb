{
 "cells": [
  {
   "cell_type": "code",
   "execution_count": 1,
   "id": "434ce98c",
   "metadata": {},
   "outputs": [],
   "source": [
    "from langchain_google_genai import ChatGoogleGenerativeAI\n",
    "from langchain_core.tools import tool\n",
    "from langchain_core.messages import HumanMessage\n",
    "import requests"
   ]
  },
  {
   "cell_type": "code",
   "execution_count": 2,
   "id": "ae881214",
   "metadata": {},
   "outputs": [],
   "source": [
    "from langchain_core.tools import InjectedToolArg \n",
    "from typing import Annotated"
   ]
  },
  {
   "cell_type": "markdown",
   "id": "ff2da700",
   "metadata": {},
   "source": [
    "As we are using 1st tool and getting conversion rate between two currencies. <br>\n",
    "\n",
    "So until we don't get the conversion_rate, we can't use the 2nd tool and multiply conversion rate with base currency value. <br>\n",
    "\n",
    "That is the reason of using InjectedToolArg it specifies that the argument is going to get injected afterwards.<br>\n",
    "\n",
    "But we don't need to use it if the LLM is not giving suggestion for both tools, if it is giving suggestion for 1st tool only then we can append the response and send the messages again to LLM so it will directly take the actual conversion rate value from messages.\n"
   ]
  },
  {
   "cell_type": "code",
   "execution_count": null,
   "id": "4909a815",
   "metadata": {},
   "outputs": [],
   "source": [
    "from dotenv import load_dotenv\n",
    "import os\n",
    "load_dotenv()\n",
    "API_KEY = os.getenv(\"CURRENCY_API_KEY\")"
   ]
  },
  {
   "cell_type": "code",
   "execution_count": null,
   "id": "b9e2a4e5",
   "metadata": {},
   "outputs": [],
   "source": [
    "# Tool creation\n",
    "\n",
    "@tool\n",
    "def get_conversion_factor(base_currency: str, target_currency: str) -> float:\n",
    "    \"\"\"This function fetches a currency conversion factor between a base currency and a target currency\"\"\"\n",
    "\n",
    "    url=f'https://v6.exchangerate-api.com/v6/{API_KEY}/pair/{base_currency}/{target_currency}'\n",
    "\n",
    "    response = requests.get(url)\n",
    "\n",
    "    return response.json()\n",
    "\n",
    "@tool\n",
    "# def convert(base_currency_value: float, conversion_rate: Annotated[float, InjectedToolArg]) -> float:\n",
    "# Not using InjectedToolArg as the model is only suggesting 1st tool so we can directly take the conversion rate after executing 1st tool\n",
    "def convert(base_currency_value: float, conversion_rate: float) -> float:\n",
    "    \"\"\"Given a currency conversion rate this function calculates the target currency value from a given base currency value\"\"\"\n",
    "\n",
    "    return base_currency_value * conversion_rate"
   ]
  },
  {
   "cell_type": "code",
   "execution_count": 5,
   "id": "5dda1107",
   "metadata": {},
   "outputs": [
    {
     "data": {
      "text/plain": [
       "{'result': 'success',\n",
       " 'documentation': 'https://www.exchangerate-api.com/docs',\n",
       " 'terms_of_use': 'https://www.exchangerate-api.com/terms',\n",
       " 'time_last_update_unix': 1749168000,\n",
       " 'time_last_update_utc': 'Fri, 06 Jun 2025 00:00:00 +0000',\n",
       " 'time_next_update_unix': 1749254400,\n",
       " 'time_next_update_utc': 'Sat, 07 Jun 2025 00:00:00 +0000',\n",
       " 'base_code': 'USD',\n",
       " 'target_code': 'INR',\n",
       " 'conversion_rate': 85.8661}"
      ]
     },
     "execution_count": 5,
     "metadata": {},
     "output_type": "execute_result"
    }
   ],
   "source": [
    "response = get_conversion_factor.invoke({'base_currency': 'USD', 'target_currency': 'INR'})\n",
    "response"
   ]
  },
  {
   "cell_type": "code",
   "execution_count": 6,
   "id": "1456c9b8",
   "metadata": {},
   "outputs": [
    {
     "data": {
      "text/plain": [
       "858.6610000000001"
      ]
     },
     "execution_count": 6,
     "metadata": {},
     "output_type": "execute_result"
    }
   ],
   "source": [
    "result = convert.invoke({'base_currency_value': 10, 'conversion_rate': response['conversion_rate']})\n",
    "result"
   ]
  },
  {
   "cell_type": "code",
   "execution_count": 7,
   "id": "23874d81",
   "metadata": {},
   "outputs": [],
   "source": [
    "# Tool binding\n",
    "\n",
    "llm = ChatGoogleGenerativeAI(model='gemini-2.0-flash')\n",
    "\n",
    "llm_with_tools = llm.bind_tools([get_conversion_factor, convert])"
   ]
  },
  {
   "cell_type": "code",
   "execution_count": 8,
   "id": "ec505d48",
   "metadata": {},
   "outputs": [
    {
     "data": {
      "text/plain": [
       "[HumanMessage(content='What is the conversion factor between USD and INR, and based on that convert 10 usd to inr', additional_kwargs={}, response_metadata={})]"
      ]
     },
     "execution_count": 8,
     "metadata": {},
     "output_type": "execute_result"
    }
   ],
   "source": [
    "# Tool calling\n",
    "\n",
    "messages = [HumanMessage(\"What is the conversion factor between USD and INR, and based on that convert 10 usd to inr\")]\n",
    "messages"
   ]
  },
  {
   "cell_type": "code",
   "execution_count": 9,
   "id": "c8b23ac0",
   "metadata": {},
   "outputs": [
    {
     "data": {
      "text/plain": [
       "AIMessage(content='', additional_kwargs={'function_call': {'name': 'get_conversion_factor', 'arguments': '{\"target_currency\": \"INR\", \"base_currency\": \"USD\"}'}}, response_metadata={'prompt_feedback': {'block_reason': 0, 'safety_ratings': []}, 'finish_reason': 'STOP', 'model_name': 'gemini-2.0-flash', 'safety_ratings': []}, id='run--86863985-6337-4c19-9fca-e7588ff3cbbf-0', tool_calls=[{'name': 'get_conversion_factor', 'args': {'target_currency': 'INR', 'base_currency': 'USD'}, 'id': '0dc1b2f8-3ec7-4ba5-bfee-b8b5d1446a22', 'type': 'tool_call'}])"
      ]
     },
     "execution_count": 9,
     "metadata": {},
     "output_type": "execute_result"
    }
   ],
   "source": [
    "ai_message1 = llm_with_tools.invoke(messages)\n",
    "ai_message1"
   ]
  },
  {
   "cell_type": "code",
   "execution_count": 10,
   "id": "5460285e",
   "metadata": {},
   "outputs": [
    {
     "data": {
      "text/plain": [
       "[{'name': 'get_conversion_factor',\n",
       "  'args': {'target_currency': 'INR', 'base_currency': 'USD'},\n",
       "  'id': '0dc1b2f8-3ec7-4ba5-bfee-b8b5d1446a22',\n",
       "  'type': 'tool_call'}]"
      ]
     },
     "execution_count": 10,
     "metadata": {},
     "output_type": "execute_result"
    }
   ],
   "source": [
    "ai_message1.tool_calls "
   ]
  },
  {
   "cell_type": "code",
   "execution_count": 11,
   "id": "ce6feaca",
   "metadata": {},
   "outputs": [],
   "source": [
    "messages.append(ai_message1)"
   ]
  },
  {
   "cell_type": "code",
   "execution_count": 12,
   "id": "10a851e9",
   "metadata": {},
   "outputs": [],
   "source": [
    "import json\n",
    "# As the API returns a json-fomattted string, therefore we use json.loads() which convert it to corresponding Python object(list, int, etc)\n",
    "\n",
    "# Execute the 1st tool and get the value of conversion rate\n",
    "for tool_call in ai_message1.tool_calls:\n",
    "    if tool_call['name']=='get_conversion_factor':\n",
    "        tool_message1 = get_conversion_factor.invoke(tool_call)\n",
    "        # fetch conversion_rate \n",
    "        conversion_rate = json.loads(tool_message1.content)['conversion_rate'] \n",
    "        # append this tool message to messages list\n",
    "        messages.append(tool_message1)"
   ]
  },
  {
   "cell_type": "markdown",
   "id": "6aa83899",
   "metadata": {},
   "source": [
    "Now as i got only 1 tool so now i will send the updated messages to llm again\n"
   ]
  },
  {
   "cell_type": "code",
   "execution_count": 13,
   "id": "327714d4",
   "metadata": {},
   "outputs": [
    {
     "name": "stdout",
     "output_type": "stream",
     "text": [
      "[HumanMessage(content='What is the conversion factor between USD and INR, and based on that convert 10 usd to inr', additional_kwargs={}, response_metadata={}), AIMessage(content='', additional_kwargs={'function_call': {'name': 'get_conversion_factor', 'arguments': '{\"target_currency\": \"INR\", \"base_currency\": \"USD\"}'}}, response_metadata={'prompt_feedback': {'block_reason': 0, 'safety_ratings': []}, 'finish_reason': 'STOP', 'model_name': 'gemini-2.0-flash', 'safety_ratings': []}, id='run--86863985-6337-4c19-9fca-e7588ff3cbbf-0', tool_calls=[{'name': 'get_conversion_factor', 'args': {'target_currency': 'INR', 'base_currency': 'USD'}, 'id': '0dc1b2f8-3ec7-4ba5-bfee-b8b5d1446a22', 'type': 'tool_call'}]), ToolMessage(content='{\"result\": \"success\", \"documentation\": \"https://www.exchangerate-api.com/docs\", \"terms_of_use\": \"https://www.exchangerate-api.com/terms\", \"time_last_update_unix\": 1749168000, \"time_last_update_utc\": \"Fri, 06 Jun 2025 00:00:00 +0000\", \"time_next_update_unix\": 1749254400, \"time_next_update_utc\": \"Sat, 07 Jun 2025 00:00:00 +0000\", \"base_code\": \"USD\", \"target_code\": \"INR\", \"conversion_rate\": 85.8661}', name='get_conversion_factor', tool_call_id='0dc1b2f8-3ec7-4ba5-bfee-b8b5d1446a22')]\n"
     ]
    }
   ],
   "source": [
    "print(messages)"
   ]
  },
  {
   "cell_type": "code",
   "execution_count": 14,
   "id": "09088dc1",
   "metadata": {},
   "outputs": [
    {
     "data": {
      "text/plain": [
       "AIMessage(content='The conversion factor from USD to INR is 85.8661. I can now convert 10 USD to INR.', additional_kwargs={'function_call': {'name': 'convert', 'arguments': '{\"base_currency_value\": 10.0, \"conversion_rate\": 85.8661}'}}, response_metadata={'prompt_feedback': {'block_reason': 0, 'safety_ratings': []}, 'finish_reason': 'STOP', 'model_name': 'gemini-2.0-flash', 'safety_ratings': []}, id='run--571be260-fb72-4617-8e55-5beaa8cb4a04-0', tool_calls=[{'name': 'convert', 'args': {'base_currency_value': 10.0, 'conversion_rate': 85.8661}, 'id': '572e5e03-8b47-40ff-bc61-90cffdbd11db', 'type': 'tool_call'}])"
      ]
     },
     "execution_count": 14,
     "metadata": {},
     "output_type": "execute_result"
    }
   ],
   "source": [
    "ai_message2 = llm_with_tools.invoke(messages)\n",
    "ai_message2"
   ]
  },
  {
   "cell_type": "code",
   "execution_count": 15,
   "id": "a7b58a7e",
   "metadata": {},
   "outputs": [
    {
     "data": {
      "text/plain": [
       "[{'name': 'convert',\n",
       "  'args': {'base_currency_value': 10.0, 'conversion_rate': 85.8661},\n",
       "  'id': '572e5e03-8b47-40ff-bc61-90cffdbd11db',\n",
       "  'type': 'tool_call'}]"
      ]
     },
     "execution_count": 15,
     "metadata": {},
     "output_type": "execute_result"
    }
   ],
   "source": [
    "ai_message2.tool_calls"
   ]
  },
  {
   "cell_type": "code",
   "execution_count": 16,
   "id": "9558fce3",
   "metadata": {},
   "outputs": [],
   "source": [
    "messages.append(ai_message2)"
   ]
  },
  {
   "cell_type": "code",
   "execution_count": 17,
   "id": "7db267cb",
   "metadata": {},
   "outputs": [],
   "source": [
    "for tool_call in ai_message2.tool_calls:\n",
    "    if tool_call['name']=='convert':\n",
    "        tool_message2 = convert.invoke(tool_call)\n",
    "        # append this tool message to messages list\n",
    "        messages.append(tool_message2)"
   ]
  },
  {
   "cell_type": "code",
   "execution_count": 18,
   "id": "1a7f1225",
   "metadata": {},
   "outputs": [
    {
     "name": "stdout",
     "output_type": "stream",
     "text": [
      "[HumanMessage(content='What is the conversion factor between USD and INR, and based on that convert 10 usd to inr', additional_kwargs={}, response_metadata={}), AIMessage(content='', additional_kwargs={'function_call': {'name': 'get_conversion_factor', 'arguments': '{\"target_currency\": \"INR\", \"base_currency\": \"USD\"}'}}, response_metadata={'prompt_feedback': {'block_reason': 0, 'safety_ratings': []}, 'finish_reason': 'STOP', 'model_name': 'gemini-2.0-flash', 'safety_ratings': []}, id='run--86863985-6337-4c19-9fca-e7588ff3cbbf-0', tool_calls=[{'name': 'get_conversion_factor', 'args': {'target_currency': 'INR', 'base_currency': 'USD'}, 'id': '0dc1b2f8-3ec7-4ba5-bfee-b8b5d1446a22', 'type': 'tool_call'}]), ToolMessage(content='{\"result\": \"success\", \"documentation\": \"https://www.exchangerate-api.com/docs\", \"terms_of_use\": \"https://www.exchangerate-api.com/terms\", \"time_last_update_unix\": 1749168000, \"time_last_update_utc\": \"Fri, 06 Jun 2025 00:00:00 +0000\", \"time_next_update_unix\": 1749254400, \"time_next_update_utc\": \"Sat, 07 Jun 2025 00:00:00 +0000\", \"base_code\": \"USD\", \"target_code\": \"INR\", \"conversion_rate\": 85.8661}', name='get_conversion_factor', tool_call_id='0dc1b2f8-3ec7-4ba5-bfee-b8b5d1446a22'), AIMessage(content='The conversion factor from USD to INR is 85.8661. I can now convert 10 USD to INR.', additional_kwargs={'function_call': {'name': 'convert', 'arguments': '{\"base_currency_value\": 10.0, \"conversion_rate\": 85.8661}'}}, response_metadata={'prompt_feedback': {'block_reason': 0, 'safety_ratings': []}, 'finish_reason': 'STOP', 'model_name': 'gemini-2.0-flash', 'safety_ratings': []}, id='run--571be260-fb72-4617-8e55-5beaa8cb4a04-0', tool_calls=[{'name': 'convert', 'args': {'base_currency_value': 10.0, 'conversion_rate': 85.8661}, 'id': '572e5e03-8b47-40ff-bc61-90cffdbd11db', 'type': 'tool_call'}]), ToolMessage(content='858.6610000000001', name='convert', tool_call_id='572e5e03-8b47-40ff-bc61-90cffdbd11db')]\n"
     ]
    }
   ],
   "source": [
    "print(messages)"
   ]
  },
  {
   "cell_type": "code",
   "execution_count": 19,
   "id": "c6e055ba",
   "metadata": {},
   "outputs": [
    {
     "data": {
      "text/plain": [
       "AIMessage(content='The conversion factor between USD and INR is 85.8661, and 10 USD is equal to 858.661 INR.', additional_kwargs={}, response_metadata={'prompt_feedback': {'block_reason': 0, 'safety_ratings': []}, 'finish_reason': 'STOP', 'model_name': 'gemini-2.0-flash', 'safety_ratings': []}, id='run--0009477f-e376-464a-a6b6-be2dfabb692f-0')"
      ]
     },
     "execution_count": 19,
     "metadata": {},
     "output_type": "execute_result"
    }
   ],
   "source": [
    "final_result = llm_with_tools.invoke(messages)\n",
    "final_result"
   ]
  },
  {
   "cell_type": "code",
   "execution_count": 20,
   "id": "05e72f29",
   "metadata": {},
   "outputs": [
    {
     "data": {
      "text/plain": [
       "'The conversion factor between USD and INR is 85.8661, and 10 USD is equal to 858.661 INR.'"
      ]
     },
     "execution_count": 20,
     "metadata": {},
     "output_type": "execute_result"
    }
   ],
   "source": [
    "final_result.content"
   ]
  }
 ],
 "metadata": {
  "kernelspec": {
   "display_name": "venv",
   "language": "python",
   "name": "python3"
  },
  "language_info": {
   "codemirror_mode": {
    "name": "ipython",
    "version": 3
   },
   "file_extension": ".py",
   "mimetype": "text/x-python",
   "name": "python",
   "nbconvert_exporter": "python",
   "pygments_lexer": "ipython3",
   "version": "3.12.7"
  }
 },
 "nbformat": 4,
 "nbformat_minor": 5
}
