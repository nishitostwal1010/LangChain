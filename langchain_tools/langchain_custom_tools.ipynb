{
  "cells": [
    {
      "cell_type": "markdown",
      "metadata": {
        "id": "bGvXnSth1-S8"
      },
      "source": [
        "# Using @tool decorator"
      ]
    },
    {
      "cell_type": "code",
      "execution_count": null,
      "metadata": {
        "id": "Mu30zjvTvvA7"
      },
      "outputs": [],
      "source": [
        "# !pip install langchain langchain-core langchain-community pydantic duckduckgo-search langchain-experimental"
      ]
    },
    {
      "cell_type": "code",
      "execution_count": null,
      "metadata": {
        "id": "h6-lw9HGul1E"
      },
      "outputs": [],
      "source": [
        "from langchain_core.tools import tool"
      ]
    },
    {
      "cell_type": "code",
      "execution_count": null,
      "metadata": {
        "id": "ydCyIBQjvxBK"
      },
      "outputs": [],
      "source": [
        "# Step 1 - create a function\n",
        "\n",
        "def multiply(a, b):\n",
        "    \"\"\"Multiply two numbers\"\"\"\n",
        "    return a*b"
      ]
    },
    {
      "cell_type": "code",
      "execution_count": null,
      "metadata": {
        "id": "a36SG-HvzZUp"
      },
      "outputs": [],
      "source": [
        "# Step 2 - add type hints\n",
        "\n",
        "def multiply(a:int, b:int) -> int:\n",
        "    \"\"\"Multiply two numbers\"\"\"\n",
        "    return a*b"
      ]
    },
    {
      "cell_type": "code",
      "execution_count": null,
      "metadata": {
        "id": "kArREHKSzkEU"
      },
      "outputs": [],
      "source": [
        "# Step 3 - add tool decorator\n",
        "\n",
        "@tool\n",
        "def multiply(a:int, b:int) -> int:\n",
        "    \"\"\"Multiply two numbers\"\"\"\n",
        "    return a*b"
      ]
    },
    {
      "cell_type": "code",
      "execution_count": null,
      "metadata": {
        "id": "A0qtAFs2zyx0"
      },
      "outputs": [],
      "source": [
        "result = multiply.invoke({'a':2,'b':3})"
      ]
    },
    {
      "cell_type": "code",
      "execution_count": null,
      "metadata": {
        "colab": {
          "base_uri": "https://localhost:8080/"
        },
        "id": "TpLwbZ5Bz4FM",
        "outputId": "8c4b078d-600c-4fe7-a115-2c566d24ae15"
      },
      "outputs": [
        {
          "name": "stdout",
          "output_type": "stream",
          "text": [
            "6\n"
          ]
        }
      ],
      "source": [
        "print(result)"
      ]
    },
    {
      "cell_type": "code",
      "execution_count": null,
      "metadata": {
        "colab": {
          "base_uri": "https://localhost:8080/"
        },
        "id": "2F4fRcM1z4ti",
        "outputId": "110c9e7d-2fa1-4616-a9a2-027c3f7a5e95"
      },
      "outputs": [
        {
          "name": "stdout",
          "output_type": "stream",
          "text": [
            "multiply\n",
            "Multiply two numbers\n",
            "{'a': {'title': 'A', 'type': 'integer'}, 'b': {'title': 'B', 'type': 'integer'}}\n"
          ]
        }
      ],
      "source": [
        "print(multiply.name)\n",
        "print(multiply.description)\n",
        "print(multiply.args)"
      ]
    },
    {
      "cell_type": "code",
      "execution_count": null,
      "metadata": {
        "colab": {
          "base_uri": "https://localhost:8080/"
        },
        "id": "h6ZNmKdjz-jr",
        "outputId": "ea0e48ec-1020-47a9-f081-438237630fe6"
      },
      "outputs": [
        {
          "name": "stdout",
          "output_type": "stream",
          "text": [
            "{'description': 'Multiply two numbers', 'properties': {'a': {'title': 'A', 'type': 'integer'}, 'b': {'title': 'B', 'type': 'integer'}}, 'required': ['a', 'b'], 'title': 'multiply', 'type': 'object'}\n"
          ]
        }
      ],
      "source": [
        "print(multiply.args_schema.model_json_schema())"
      ]
    },
    {
      "cell_type": "markdown",
      "metadata": {
        "id": "0EqRkp8v1kIy"
      },
      "source": [
        "# Using StructuredTool and Pydantic"
      ]
    },
    {
      "cell_type": "code",
      "execution_count": null,
      "metadata": {
        "id": "DpjQvw8I1n50"
      },
      "outputs": [],
      "source": [
        "from langchain.tools import StructuredTool\n",
        "from pydantic import BaseModel, Field"
      ]
    },
    {
      "cell_type": "code",
      "execution_count": null,
      "metadata": {
        "id": "BOHvlmo22fEw"
      },
      "outputs": [],
      "source": [
        "class MultiplyInput(BaseModel):\n",
        "    a: int = Field(required=True, description=\"first number\")\n",
        "    b: int = Field(required=True, description=\"second number\")"
      ]
    },
    {
      "cell_type": "code",
      "execution_count": null,
      "metadata": {
        "id": "0ziBcn8X2skk"
      },
      "outputs": [],
      "source": [
        "def multiply_func(a: int, b: int) -> int:\n",
        "    return a*b"
      ]
    },
    {
      "cell_type": "code",
      "execution_count": null,
      "metadata": {
        "id": "sZidMxnT21dv"
      },
      "outputs": [],
      "source": [
        "multiply_tool = StructuredTool.from_function(\n",
        "    func=multiply_func,\n",
        "    name=\"multiply\",\n",
        "    description=\"Multiply two numbers\",\n",
        "    args_schema=MultiplyInput\n",
        ")"
      ]
    },
    {
      "cell_type": "code",
      "execution_count": null,
      "metadata": {
        "colab": {
          "base_uri": "https://localhost:8080/"
        },
        "id": "CoWJ8dcz29lY",
        "outputId": "bd52a6fb-4038-459b-9cd4-7d04b3ef276b"
      },
      "outputs": [
        {
          "name": "stdout",
          "output_type": "stream",
          "text": [
            "6\n",
            "multiply\n",
            "Multiply two numbers\n",
            "{'a': {'description': 'first number to add', 'required': True, 'title': 'A', 'type': 'integer'}, 'b': {'description': 'second number to add', 'required': True, 'title': 'B', 'type': 'integer'}}\n"
          ]
        }
      ],
      "source": [
        "result = multiply_tool.invoke({\"a\":2,\"b\":3})\n",
        "\n",
        "print(result)\n",
        "print(multiply_tool.name)\n",
        "print(multiply_tool.description)\n",
        "print(multiply_tool.args)"
      ]
    },
    {
      "cell_type": "markdown",
      "metadata": {
        "id": "qEcu-IGO3JXP"
      },
      "source": [
        "# Using BaseTool class"
      ]
    },
    {
      "cell_type": "code",
      "execution_count": null,
      "metadata": {
        "id": "284YurTM3R2H"
      },
      "outputs": [],
      "source": [
        "from langchain.tools import BaseTool\n",
        "from typing import Type"
      ]
    },
    {
      "cell_type": "code",
      "execution_count": null,
      "metadata": {
        "id": "AV9IKVsj4AQ3"
      },
      "outputs": [],
      "source": [
        "# arg schema using pydantic\n",
        "\n",
        "class MultiplyInput(BaseModel):\n",
        "    a: int = Field(required=True, description=\"first number\")\n",
        "    b: int = Field(required=True, description=\"second number\")"
      ]
    },
    {
      "cell_type": "code",
      "execution_count": null,
      "metadata": {
        "id": "tJeKDwC84Ehz"
      },
      "outputs": [],
      "source": [
        "class MultiplyTool(BaseTool):\n",
        "    name: str = \"multiplly\"\n",
        "    description: str = \"Multiply two numbers\"\n",
        "    args_schema: Type[BaseModel] = MultiplyInput\n",
        "\n",
        "    def _run(self, a: int, b: int) -> int:\n",
        "        return a*b"
      ]
    },
    {
      "cell_type": "code",
      "execution_count": null,
      "metadata": {
        "id": "5xi70rRF4hXv"
      },
      "outputs": [],
      "source": [
        "multiply_tool = MultiplyTool()"
      ]
    },
    {
      "cell_type": "code",
      "execution_count": null,
      "metadata": {
        "colab": {
          "base_uri": "https://localhost:8080/"
        },
        "id": "zE7QATTj4l7e",
        "outputId": "ade40337-b7d4-4895-8a17-6ea228f2351a"
      },
      "outputs": [
        {
          "name": "stdout",
          "output_type": "stream",
          "text": [
            "12\n",
            "multiplly\n",
            "Multiply two numbers\n",
            "{'a': {'description': 'first number', 'required': True, 'title': 'A', 'type': 'integer'}, 'b': {'description': 'second number', 'required': True, 'title': 'B', 'type': 'integer'}}\n"
          ]
        }
      ],
      "source": [
        "result = multiply_tool.invoke({'a':3,'b':4})\n",
        "\n",
        "print(result)\n",
        "print(multiply_tool.name)\n",
        "print(multiply_tool.description)\n",
        "print(multiply_tool.args)"
      ]
    },
    {
      "cell_type": "markdown",
      "metadata": {
        "id": "kWDD_gr45oDn"
      },
      "source": [
        "# Toolkit"
      ]
    },
    {
      "cell_type": "code",
      "execution_count": null,
      "metadata": {
        "id": "WGV_kXad5rRq"
      },
      "outputs": [],
      "source": [
        "from langchain_core.tools import tool"
      ]
    },
    {
      "cell_type": "code",
      "execution_count": null,
      "metadata": {
        "id": "nvM4p8_75x8E"
      },
      "outputs": [],
      "source": [
        "# Custom tools\n",
        "@tool\n",
        "def add(a: int, b: int) -> int:\n",
        "    \"\"\"Add two numbers\"\"\"\n",
        "    return a+b\n",
        "\n",
        "@tool\n",
        "def multiply(a: int, b: int) -> int:\n",
        "    \"\"\"Multiply two numbers\"\"\"\n",
        "    return a*b"
      ]
    },
    {
      "cell_type": "code",
      "execution_count": null,
      "metadata": {
        "id": "F9S3ad8c6CPP"
      },
      "outputs": [],
      "source": [
        "class MathToolkit:\n",
        "    def get_tools(self):\n",
        "        return [add, multiply]"
      ]
    },
    {
      "cell_type": "code",
      "execution_count": null,
      "metadata": {
        "colab": {
          "base_uri": "https://localhost:8080/"
        },
        "id": "aMiG5-VD6Jlr",
        "outputId": "bea1f32d-ac4a-4cea-b6ef-cdc9658f4262"
      },
      "outputs": [
        {
          "name": "stdout",
          "output_type": "stream",
          "text": [
            "add => Add two numbers\n",
            "multiply => Multiply two numbers\n"
          ]
        }
      ],
      "source": [
        "toolkit = MathToolkit()\n",
        "tools = toolkit.get_tools()\n",
        "\n",
        "for tool in tools:\n",
        "    print(tool.name, \"=>\", tool.description)"
      ]
    }
  ],
  "metadata": {
    "colab": {
      "provenance": []
    },
    "kernelspec": {
      "display_name": "Python 3",
      "name": "python3"
    },
    "language_info": {
      "name": "python"
    }
  },
  "nbformat": 4,
  "nbformat_minor": 0
}
