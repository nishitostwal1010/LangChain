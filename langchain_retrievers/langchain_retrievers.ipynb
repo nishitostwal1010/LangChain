{
 "cells": [
  {
   "cell_type": "markdown",
   "id": "d03e5d2b",
   "metadata": {},
   "source": [
    "# Wikipedia Retriever"
   ]
  },
  {
   "cell_type": "code",
   "execution_count": 11,
   "id": "e568622a",
   "metadata": {},
   "outputs": [],
   "source": [
    "from langchain_community.retrievers import WikipediaRetriever"
   ]
  },
  {
   "cell_type": "code",
   "execution_count": 12,
   "id": "e68d2a74",
   "metadata": {},
   "outputs": [],
   "source": [
    "# Initialize the retriever (optimal: set language and top_k)\n",
    "retriever = WikipediaRetriever(top_k_results=2, lang='en')"
   ]
  },
  {
   "cell_type": "code",
   "execution_count": 23,
   "id": "dacaa62e",
   "metadata": {},
   "outputs": [],
   "source": [
    "# Define your query\n",
    "query = 'the geopolitical history of india and pakistan'\n",
    "\n",
    "# Get relevant Wikipedia documents\n",
    "docs = retriever.invoke(query)"
   ]
  },
  {
   "cell_type": "code",
   "execution_count": 24,
   "id": "c7ceaf1e",
   "metadata": {},
   "outputs": [
    {
     "data": {
      "text/plain": [
       "[Document(metadata={'title': 'Indo-Pakistani wars and conflicts', 'summary': 'Since the partition of British India in 1947 and subsequent creation of the dominions of India and Pakistan, the two countries have been involved in a number of wars, conflicts, and military standoffs. A long-running dispute over Kashmir and cross-border terrorism have been the predominant cause of conflict between the two states, with the exception of the Indo-Pakistani War of 1971, which occurred as a direct result of hostilities stemming from the Bangladesh Liberation War in erstwhile East Pakistan (now Bangladesh).', 'source': 'https://en.wikipedia.org/wiki/Indo-Pakistani_wars_and_conflicts'}, page_content='Since the partition of British India in 1947 and subsequent creation of the dominions of India and Pakistan, the two countries have been involved in a number of wars, conflicts, and military standoffs. A long-running dispute over Kashmir and cross-border terrorism have been the predominant cause of conflict between the two states, with the exception of the Indo-Pakistani War of 1971, which occurred as a direct result of hostilities stemming from the Bangladesh Liberation War in erstwhile East Pakistan (now Bangladesh).\\n\\n\\n== Background ==\\n\\nThe Partition of India came in 1947 with the sudden grant of independence. It was the intention of those who wished for a Muslim state to have a clean partition between independent and equal \"Pakistan\" and \"Hindustan\" once independence came.\\nNearly one third of the Muslim population of India remained in the new India.\\nInter-communal violence between Hindus, Sikhs and Muslims resulted in between 200,000 and 2 million casualties leaving 14 million people displaced.\\nPrincely states in India were provided with an Instrument of Accession to accede to either India or Pakistan.\\n\\n\\n== Wars ==\\n\\n\\n=== Indo-Pakistani war of 1947–1948 ===\\n\\nThe war, also called the First India–Pakistan War, started in October 1947 when Pakistan feared that the Maharaja of the princely state of Kashmir and Jammu would accede to India. Following partition, princely states were left to choose whether to join India or Pakistan or to remain independent. Jammu and Kashmir, the largest of the princely states, had a majority Muslim population and significant fraction of Hindu population, all ruled by the Hindu Maharaja Hari Singh. Tribal Islamic forces with support from the army of Pakistan attacked and occupied parts of the princely state forcing the Maharaja to sign the Instrument of Accession of the princely state to the Dominion of India to receive Indian military aid. The UN Security Council passed Resolution 47 on 22 April 1948. The fronts solidified gradually along what came to be known as the Line of Control. A formal cease-fire was declared at 23:59 on the night of 1 January 1949.:\\u200a379\\u200a India gained control of about two-thirds of the state (Kashmir Valley, Jammu and Ladakh) whereas Pakistan gained roughly a third of Kashmir (Azad Kashmir, and Gilgit-Baltistan). The Pakistan controlled areas are collectively referred to as Pakistan administered Kashmir.\\n\\n\\n=== Indo-Pakistani war of 1965 ===\\n\\nThis war started following Pakistan\\'s Operation Gibraltar, which was designed to infiltrate forces into Jammu and Kashmir to precipitate an insurgency against rule by India. India retaliated by launching a full-scale military attack on West Pakistan. The seventeen-day war caused thousands of casualties on both sides and witnessed the largest engagement of armored vehicles and the largest tank battle since World War II. The hostilities between the two countries ended after a ceasefire was declared following diplomatic intervention by the Soviet Union and USA and the subsequent issuance of the Tashkent Declaration. India had the upper hand over Pakistan when the ceasefire was declared.\\n\\n\\n=== Indo-Pakistani war of 1971 ===\\n\\nThis war was unique in the way that it did not involve the issue of Kashmir, but was rather precipitated by the crisis created by the political battle brewing in erstwhile East Pakistan (now Bangladesh) between Sheikh Mujibur Rahman, Leader of East Pakistan, and Yahya Khan and Zulfikar Ali Bhutto, leaders of West Pakistan. This would culminate in the declaration of Independence of Bangladesh from the state system of Pakistan. Following Operation Searchlight and the 1971 Bangladesh atrocities, about 10 million Bengalis in East Pakistan took refuge in neighbouring India.\\nIndia intervened in the ongoing Bangladesh liberation movement. After a large scale pre-emptive strike by Pakistan, full-scale hostilities between the two countries commenced.\\nPakistan attacked at several places along India\\'s western border with Pakistan, '),\n",
       " Document(metadata={'title': '2025 India–Pakistan conflict', 'summary': \"The 2025 India–Pakistan conflict was a brief armed conflict between India and Pakistan that began on 7 May 2025, after India launched missile strikes on Pakistan, in a military campaign codenamed Operation Sindoor. India said that the operation was in response to the Pahalgam terrorist attack in Indian-administered Kashmir on 22 April 2025 in which 26 civilians were killed. India accused Pakistan of supporting cross-border terrorism, which Pakistan denied.\\nOn 7 May, India launched Operation Sindoor with missile strikes targeting the alleged terrorist training camps of Pakistan-based militant groups Jaish-e-Mohammed and Lashkar-e-Taiba, and claimed that no Pakistani military or civilian facilities were targeted. According to Pakistan, the Indian strikes hit civilian areas, including mosques. Following these strikes, there were border skirmishes and drone strikes between the two countries. This conflict marked the first drone battle between the two nuclear-armed nations. India's military said that Pakistan's retaliatory strikes targeted civilian areas, including Hindu and Sikh religious sites.\\nIn the early hours of 10 May, India accused Pakistan of launching missile attacks on Indian air bases including the Sirsa air base while Pakistan accused India of launching attacks on several Pakistan air bases, including Nur Khan, Rafiqi, and Murid. As conflict escalated on 10 May, Pakistan launched its operation codenamed Operation Bunyan-um-Marsoos, in which it said it had targeted several Indian military bases.\\nAfter the four-day military conflict, both India and Pakistan announced that a ceasefire had been agreed after a hotline communication between their DGMOs (Directors General of Military Operations) on 10 May 2025. U.S. Vice President JD Vance and Secretary of State Marco Rubio held extensive correspondence with both Indian and Pakistani officials during the negotiations. The ceasefire has been holding with resumed commercial flights and normalcy reported from both countries.\", 'source': 'https://en.wikipedia.org/wiki/2025_India%E2%80%93Pakistan_conflict'}, page_content='The 2025 India–Pakistan conflict was a brief armed conflict between India and Pakistan that began on 7 May 2025, after India launched missile strikes on Pakistan, in a military campaign codenamed Operation Sindoor. India said that the operation was in response to the Pahalgam terrorist attack in Indian-administered Kashmir on 22 April 2025 in which 26 civilians were killed. India accused Pakistan of supporting cross-border terrorism, which Pakistan denied.\\nOn 7 May, India launched Operation Sindoor with missile strikes targeting the alleged terrorist training camps of Pakistan-based militant groups Jaish-e-Mohammed and Lashkar-e-Taiba, and claimed that no Pakistani military or civilian facilities were targeted. According to Pakistan, the Indian strikes hit civilian areas, including mosques. Following these strikes, there were border skirmishes and drone strikes between the two countries. This conflict marked the first drone battle between the two nuclear-armed nations. India\\'s military said that Pakistan\\'s retaliatory strikes targeted civilian areas, including Hindu and Sikh religious sites.\\nIn the early hours of 10 May, India accused Pakistan of launching missile attacks on Indian air bases including the Sirsa air base while Pakistan accused India of launching attacks on several Pakistan air bases, including Nur Khan, Rafiqi, and Murid. As conflict escalated on 10 May, Pakistan launched its operation codenamed Operation Bunyan-um-Marsoos, in which it said it had targeted several Indian military bases.\\nAfter the four-day military conflict, both India and Pakistan announced that a ceasefire had been agreed after a hotline communication between their DGMOs (Directors General of Military Operations) on 10 May 2025. U.S. Vice President JD Vance and Secretary of State Marco Rubio held extensive correspondence with both Indian and Pakistani officials during the negotiations. The ceasefire has been holding with resumed commercial flights and normalcy reported from both countries.\\n\\n\\n== Background ==\\n\\nThe Kashmir conflict, ongoing since 1947, has fuelled multiple wars and skirmishes between India and Pakistan over the disputed region.\\nOn 22 April 2025, a terrorist attack by militants near Pahalgam in the Indian administered Kashmir killed 26 civilians, mostly Hindu tourists. The Resistance Front, an offshoot of Pakistan-based, UN-designated, terrorist group Lashkar-e-Taiba, initially claimed responsibility for the attack, which it later retracted. In the aftermath, India announced a series of retaliatory measures against Pakistan, including the suspension of the Indus Waters Treaty, prompting responsive measures and leading to a diplomatic crisis and border skirmishes. On 30 April, Pakistan claimed that a military strike by India was imminent.\\n\\n\\n== Timeline ==\\n\\n\\n=== 7 May ===\\n\\nOn 7 May 2025, the Indian Armed Forces launched a series of 14 attacks, codenamed Operation Sindoor, claiming to target nine locations in Pakistani-administered Kashmir and Pakistan\\'s Punjab province. The attack was presumably carried out by the Rafale aircraft of the Indian Air Force using SCALP missiles and AASM Hammer glide bombs over a 23-minute duration. Reportedly, BrahMos cruise missiles as well as Indian Army\\'s Indo-Israeli SkyStriker loitering munitions were also used in the operation. A Pakistani general said that the strikes were conducted without Indian aircraft entering Pakistani airspace. The same was stated in a report published by Press Information Bureau.\\nThe Indian government described the strikes as \"focused, measured, and non-escalatory\". It claimed that the missile strikes targeted the infrastructure of terrorist groups Jaish-e-Mohammed and Lashkar-e-Taiba; and no Pakistani military facilities were targeted. According to India Today, the missile strikes targeted locations including Bahawalpur and Muridke, alleged to be the terrorist training camps of Jaish-e-Mohammed and Lashkar-e-Taiba respectively.\\nIn response to the attacks, Pakistani Prim')]"
      ]
     },
     "execution_count": 24,
     "metadata": {},
     "output_type": "execute_result"
    }
   ],
   "source": [
    "docs"
   ]
  },
  {
   "cell_type": "code",
   "execution_count": null,
   "id": "d48cd9b2",
   "metadata": {},
   "outputs": [
    {
     "name": "stdout",
     "output_type": "stream",
     "text": [
      "\n",
      "--- Result 1 ---\n",
      "Content:\n",
      "Since the partition of British India in 1947 and subsequent creation of the dominions of India and Pakistan, the two countries have been involved in a number of wars, conflicts, and military standoffs. A long-running dispute over Kashmir and cross-border terrorism have been the predominant cause of conflict between the two states, with the exception of the Indo-Pakistani War of 1971, which occurred as a direct result of hostilities stemming from the Bangladesh Liberation War in erstwhile East Pakistan (now Bangladesh).\n",
      "\n",
      "\n",
      "== Background ==\n",
      "\n",
      "The Partition of India came in 1947 with the sudden grant of independence. It was the intention of those who wished for a Muslim state to have a clean partition between independent and equal \"Pakistan\" and \"Hindustan\" once independence came.\n",
      "Nearly one third of the Muslim population of India remained in the new India.\n",
      "Inter-communal violence between Hindus, Sikhs and Muslims resulted in between 200,000 and 2 million casualties leaving 14 million people displaced.\n",
      "Princely states in India were provided with an Instrument of Accession to accede to either India or Pakistan.\n",
      "\n",
      "\n",
      "== Wars ==\n",
      "\n",
      "\n",
      "=== Indo-Pakistani war of 1947–1948 ===\n",
      "\n",
      "The war, also called the First India–Pakistan War, started in October 1947 when Pakistan feared that the Maharaja of the princely state of Kashmir and Jammu would accede to India. Following partition, princely states were left to choose whether to join India or Pakistan or to remain independent. Jammu and Kashmir, the largest of the princely states, had a majority Muslim population and significant fraction of Hindu population, all ruled by the Hindu Maharaja Hari Singh. Tribal Islamic forces with support from the army of Pakistan attacked and occupied parts of the princely state forcing the Maharaja to sign the Instrument of Accession of the princely state to the Dominion of India to receive Indian military aid. The UN Security Council passed Resolution 47 on 22 April 1948. The fronts solidified gradually along what came to be known as the Line of Control. A formal cease-fire was declared at 23:59 on the night of 1 January 1949.: 379  India gained control of about two-thirds of the state (Kashmir Valley, Jammu and Ladakh) whereas Pakistan gained roughly a third of Kashmir (Azad Kashmir, and Gilgit-Baltistan). The Pakistan controlled areas are collectively referred to as Pakistan administered Kashmir.\n",
      "\n",
      "\n",
      "=== Indo-Pakistani war of 1965 ===\n",
      "\n",
      "This war started following Pakistan's Operation Gibraltar, which was designed to infiltrate forces into Jammu and Kashmir to precipitate an insurgency against rule by India. India retaliated by launching a full-scale military attack on West Pakistan. The seventeen-day war caused thousands of casualties on both sides and witnessed the largest engagement of armored vehicles and the largest tank battle since World War II. The hostilities between the two countries ended after a ceasefire was declared following diplomatic intervention by the Soviet Union and USA and the subsequent issuance of the Tashkent Declaration. India had the upper hand over Pakistan when the ceasefire was declared.\n",
      "\n",
      "\n",
      "=== Indo-Pakistani war of 1971 ===\n",
      "\n",
      "This war was unique in the way that it did not involve the issue of Kashmir, but was rather precipitated by the crisis created by the political battle brewing in erstwhile East Pakistan (now Bangladesh) between Sheikh Mujibur Rahman, Leader of East Pakistan, and Yahya Khan and Zulfikar Ali Bhutto, leaders of West Pakistan. This would culminate in the declaration of Independence of Bangladesh from the state system of Pakistan. Following Operation Searchlight and the 1971 Bangladesh atrocities, about 10 million Bengalis in East Pakistan took refuge in neighbouring India.\n",
      "India intervened in the ongoing Bangladesh liberation movement. After a large scale pre-emptive strike by Pakistan, full-scale hostilities between the two countries commenced.\n",
      "Pakistan attacked at several places along India's western border with Pakistan, ...\n",
      "\n",
      "--- Result 2 ---\n",
      "Content:\n",
      "The 2025 India–Pakistan conflict was a brief armed conflict between India and Pakistan that began on 7 May 2025, after India launched missile strikes on Pakistan, in a military campaign codenamed Operation Sindoor. India said that the operation was in response to the Pahalgam terrorist attack in Indian-administered Kashmir on 22 April 2025 in which 26 civilians were killed. India accused Pakistan of supporting cross-border terrorism, which Pakistan denied.\n",
      "On 7 May, India launched Operation Sindoor with missile strikes targeting the alleged terrorist training camps of Pakistan-based militant groups Jaish-e-Mohammed and Lashkar-e-Taiba, and claimed that no Pakistani military or civilian facilities were targeted. According to Pakistan, the Indian strikes hit civilian areas, including mosques. Following these strikes, there were border skirmishes and drone strikes between the two countries. This conflict marked the first drone battle between the two nuclear-armed nations. India's military said that Pakistan's retaliatory strikes targeted civilian areas, including Hindu and Sikh religious sites.\n",
      "In the early hours of 10 May, India accused Pakistan of launching missile attacks on Indian air bases including the Sirsa air base while Pakistan accused India of launching attacks on several Pakistan air bases, including Nur Khan, Rafiqi, and Murid. As conflict escalated on 10 May, Pakistan launched its operation codenamed Operation Bunyan-um-Marsoos, in which it said it had targeted several Indian military bases.\n",
      "After the four-day military conflict, both India and Pakistan announced that a ceasefire had been agreed after a hotline communication between their DGMOs (Directors General of Military Operations) on 10 May 2025. U.S. Vice President JD Vance and Secretary of State Marco Rubio held extensive correspondence with both Indian and Pakistani officials during the negotiations. The ceasefire has been holding with resumed commercial flights and normalcy reported from both countries.\n",
      "\n",
      "\n",
      "== Background ==\n",
      "\n",
      "The Kashmir conflict, ongoing since 1947, has fuelled multiple wars and skirmishes between India and Pakistan over the disputed region.\n",
      "On 22 April 2025, a terrorist attack by militants near Pahalgam in the Indian administered Kashmir killed 26 civilians, mostly Hindu tourists. The Resistance Front, an offshoot of Pakistan-based, UN-designated, terrorist group Lashkar-e-Taiba, initially claimed responsibility for the attack, which it later retracted. In the aftermath, India announced a series of retaliatory measures against Pakistan, including the suspension of the Indus Waters Treaty, prompting responsive measures and leading to a diplomatic crisis and border skirmishes. On 30 April, Pakistan claimed that a military strike by India was imminent.\n",
      "\n",
      "\n",
      "== Timeline ==\n",
      "\n",
      "\n",
      "=== 7 May ===\n",
      "\n",
      "On 7 May 2025, the Indian Armed Forces launched a series of 14 attacks, codenamed Operation Sindoor, claiming to target nine locations in Pakistani-administered Kashmir and Pakistan's Punjab province. The attack was presumably carried out by the Rafale aircraft of the Indian Air Force using SCALP missiles and AASM Hammer glide bombs over a 23-minute duration. Reportedly, BrahMos cruise missiles as well as Indian Army's Indo-Israeli SkyStriker loitering munitions were also used in the operation. A Pakistani general said that the strikes were conducted without Indian aircraft entering Pakistani airspace. The same was stated in a report published by Press Information Bureau.\n",
      "The Indian government described the strikes as \"focused, measured, and non-escalatory\". It claimed that the missile strikes targeted the infrastructure of terrorist groups Jaish-e-Mohammed and Lashkar-e-Taiba; and no Pakistani military facilities were targeted. According to India Today, the missile strikes targeted locations including Bahawalpur and Muridke, alleged to be the terrorist training camps of Jaish-e-Mohammed and Lashkar-e-Taiba respectively.\n",
      "In response to the attacks, Pakistani Prim...\n"
     ]
    }
   ],
   "source": [
    "for i, doc in enumerate(docs):\n",
    "    print(f'\\n--- Result {i+1} ---')\n",
    "    print(f'Content:\\n{doc.page_content}') # truncate for display"
   ]
  },
  {
   "cell_type": "markdown",
   "id": "093604e5",
   "metadata": {},
   "source": [
    "# Vector Store Retriever"
   ]
  },
  {
   "cell_type": "code",
   "execution_count": 1,
   "id": "41886906",
   "metadata": {},
   "outputs": [],
   "source": [
    "from langchain_community.vectorstores import Chroma\n",
    "from langchain_openai import OpenAIEmbeddings\n",
    "from langchain_core.documents import Document"
   ]
  },
  {
   "cell_type": "code",
   "execution_count": 5,
   "id": "b3419950",
   "metadata": {},
   "outputs": [
    {
     "data": {
      "text/plain": [
       "True"
      ]
     },
     "execution_count": 5,
     "metadata": {},
     "output_type": "execute_result"
    }
   ],
   "source": [
    "from dotenv import load_dotenv\n",
    "load_dotenv()"
   ]
  },
  {
   "cell_type": "code",
   "execution_count": 6,
   "id": "90a34ff3",
   "metadata": {},
   "outputs": [],
   "source": [
    "# Step 1: Your source documents\n",
    "documents = [\n",
    "    Document(page_content=\"LangChain helps developers build LLM applications easily.\"),\n",
    "    Document(page_content=\"Chroma is a vector database optimized for LLM-based search.\"),\n",
    "    Document(page_content=\"Embeddings convert text into high-dimensional vectors.\"),\n",
    "    Document(page_content=\"OpenAI provides powerful embedding models.\"),\n",
    "]"
   ]
  },
  {
   "cell_type": "code",
   "execution_count": 7,
   "id": "80b62e98",
   "metadata": {},
   "outputs": [],
   "source": [
    "# Step 2: Initialize embedding model\n",
    "embedding_model = OpenAIEmbeddings()"
   ]
  },
  {
   "cell_type": "code",
   "execution_count": 8,
   "id": "c61cdf35",
   "metadata": {},
   "outputs": [],
   "source": [
    "# Step 3: Create Chroma vector store in memory\n",
    "vectorstore = Chroma.from_documents(\n",
    "    documents= documents,\n",
    "    embedding=embedding_model,\n",
    "    collection_name='my_colllection'\n",
    ")"
   ]
  },
  {
   "cell_type": "code",
   "execution_count": 9,
   "id": "26a2d18d",
   "metadata": {},
   "outputs": [],
   "source": [
    "# Step 4: Convert vectorstore into a retriever\n",
    "retriever = vectorstore.as_retriever(search_kwargs={'k':2})"
   ]
  },
  {
   "cell_type": "code",
   "execution_count": 10,
   "id": "011d0dcd",
   "metadata": {},
   "outputs": [],
   "source": [
    "query = 'What is Chroma used for?'\n",
    "results = retriever.invoke(query)"
   ]
  },
  {
   "cell_type": "code",
   "execution_count": 11,
   "id": "01ae684f",
   "metadata": {},
   "outputs": [
    {
     "name": "stdout",
     "output_type": "stream",
     "text": [
      "\n",
      "--- Result 1 ---\n",
      "Chroma is a vector database optimized for LLM-based search.\n",
      "\n",
      "--- Result 2 ---\n",
      "LangChain helps developers build LLM applications easily.\n"
     ]
    }
   ],
   "source": [
    "for i, doc in enumerate(results):\n",
    "    print(f'\\n--- Result {i+1} ---')\n",
    "    print(doc.page_content)"
   ]
  },
  {
   "cell_type": "code",
   "execution_count": 12,
   "id": "83206375",
   "metadata": {},
   "outputs": [
    {
     "name": "stdout",
     "output_type": "stream",
     "text": [
      "\n",
      "--- Result 1 ---\n",
      "Chroma is a vector database optimized for LLM-based search.\n",
      "\n",
      "--- Result 2 ---\n",
      "LangChain helps developers build LLM applications easily.\n"
     ]
    }
   ],
   "source": [
    "results = vectorstore.similarity_search(query, k=2)\n",
    "for i, doc in enumerate(results):\n",
    "    print(f'\\n--- Result {i+1} ---')\n",
    "    print(doc.page_content)"
   ]
  },
  {
   "cell_type": "markdown",
   "id": "24411c1c",
   "metadata": {},
   "source": [
    "# Maximal Marginal Relevance (MMR) -"
   ]
  },
  {
   "cell_type": "code",
   "execution_count": 21,
   "id": "28816878",
   "metadata": {},
   "outputs": [],
   "source": [
    "# Sample documents\n",
    "docs = [\n",
    "    Document(page_content=\"LangChain makes it easy to work with LLMs.\"),\n",
    "    Document(page_content=\"LangChain is used to build LLM based applications.\"),\n",
    "    Document(page_content=\"Chroma is used to store and search document embeddings.\"),\n",
    "    Document(page_content=\"Embeddings are vector representations of text.\"),\n",
    "    Document(page_content=\"MMR helps you get diverse results when doing similarity search.\"),\n",
    "    Document(page_content=\"LangChain supports Chroma, FAISS, Pinecone, and more.\"),\n",
    "]"
   ]
  },
  {
   "cell_type": "code",
   "execution_count": 22,
   "id": "6d68166c",
   "metadata": {},
   "outputs": [],
   "source": [
    "from langchain_community.vectorstores import FAISS"
   ]
  },
  {
   "cell_type": "code",
   "execution_count": 23,
   "id": "3b6a6e6e",
   "metadata": {},
   "outputs": [],
   "source": [
    "# Step 1: Initialize OpenAI embeddings\n",
    "embedding_model = OpenAIEmbeddings()"
   ]
  },
  {
   "cell_type": "code",
   "execution_count": 24,
   "id": "5d265e67",
   "metadata": {},
   "outputs": [],
   "source": [
    "# Step 2: Create the FAISS vector store from documents\n",
    "vectorstore = FAISS.from_documents(\n",
    "    documents=docs,\n",
    "    embedding=embedding_model\n",
    ")"
   ]
  },
  {
   "cell_type": "code",
   "execution_count": 25,
   "id": "3907036d",
   "metadata": {},
   "outputs": [],
   "source": [
    "# Enable MMR in retriever\n",
    "retriever = vectorstore.as_retriever(\n",
    "    search_type='mmr', # This enables mmr.\n",
    "    search_kwargs={'k':3, 'lambda_mult': 1} # k = top results, lambda_mult = relevance-diversity balance\n",
    ")"
   ]
  },
  {
   "cell_type": "code",
   "execution_count": 26,
   "id": "339e84fc",
   "metadata": {},
   "outputs": [],
   "source": [
    "query = 'What is langchain?'\n",
    "results = retriever.invoke(query)"
   ]
  },
  {
   "cell_type": "code",
   "execution_count": 27,
   "id": "0411f80e",
   "metadata": {},
   "outputs": [
    {
     "name": "stdout",
     "output_type": "stream",
     "text": [
      "\n",
      "--- Result 1 ---\n",
      "LangChain is used to build LLM based applications.\n",
      "\n",
      "--- Result 2 ---\n",
      "LangChain makes it easy to work with LLMs.\n",
      "\n",
      "--- Result 3 ---\n",
      "LangChain supports Chroma, FAISS, Pinecone, and more.\n"
     ]
    }
   ],
   "source": [
    "for i, doc in enumerate(results):\n",
    "    print(f'\\n--- Result {i+1} ---')\n",
    "    print(doc.page_content)"
   ]
  },
  {
   "cell_type": "markdown",
   "id": "e829741e",
   "metadata": {},
   "source": [
    "As we can see we used lambda_mult = 1 (most relevant), therefore the first 2 results are very similar(king of same)"
   ]
  },
  {
   "cell_type": "code",
   "execution_count": 28,
   "id": "70bfa348",
   "metadata": {},
   "outputs": [],
   "source": [
    "retriever = vectorstore.as_retriever(\n",
    "    search_type='mmr', # This enables mmr.\n",
    "    search_kwargs={'k':3, 'lambda_mult': 0} # k = top results, lambda_mult = relevance-diversity balance\n",
    ")"
   ]
  },
  {
   "cell_type": "code",
   "execution_count": 29,
   "id": "61ab37e9",
   "metadata": {},
   "outputs": [],
   "source": [
    "query = 'What is langchain?'\n",
    "results = retriever.invoke(query)"
   ]
  },
  {
   "cell_type": "code",
   "execution_count": 30,
   "id": "153fc3d2",
   "metadata": {},
   "outputs": [
    {
     "name": "stdout",
     "output_type": "stream",
     "text": [
      "\n",
      "--- Result 1 ---\n",
      "LangChain is used to build LLM based applications.\n",
      "\n",
      "--- Result 2 ---\n",
      "Embeddings are vector representations of text.\n",
      "\n",
      "--- Result 3 ---\n",
      "MMR helps you get diverse results when doing similarity search.\n"
     ]
    }
   ],
   "source": [
    "for i, doc in enumerate(results):\n",
    "    print(f'\\n--- Result {i+1} ---')\n",
    "    print(doc.page_content)"
   ]
  },
  {
   "cell_type": "markdown",
   "id": "cb032917",
   "metadata": {},
   "source": [
    "As we can see using lambda_mult ve most different results."
   ]
  },
  {
   "cell_type": "code",
   "execution_count": 31,
   "id": "da5bb5cb",
   "metadata": {},
   "outputs": [],
   "source": [
    "retriever = vectorstore.as_retriever(\n",
    "    search_type='mmr', # This enables mmr.\n",
    "    search_kwargs={'k':3, 'lambda_mult': 0.5} # k = top results, lambda_mult = relevance-diversity balance\n",
    ")"
   ]
  },
  {
   "cell_type": "code",
   "execution_count": 32,
   "id": "d908465e",
   "metadata": {},
   "outputs": [],
   "source": [
    "query = 'What is langchain?'\n",
    "results = retriever.invoke(query)"
   ]
  },
  {
   "cell_type": "code",
   "execution_count": 33,
   "id": "1516d3a5",
   "metadata": {},
   "outputs": [
    {
     "name": "stdout",
     "output_type": "stream",
     "text": [
      "\n",
      "--- Result 1 ---\n",
      "LangChain is used to build LLM based applications.\n",
      "\n",
      "--- Result 2 ---\n",
      "Embeddings are vector representations of text.\n",
      "\n",
      "--- Result 3 ---\n",
      "LangChain supports Chroma, FAISS, Pinecone, and more.\n"
     ]
    }
   ],
   "source": [
    "for i, doc in enumerate(results):\n",
    "    print(f'\\n--- Result {i+1} ---')\n",
    "    print(doc.page_content)"
   ]
  },
  {
   "cell_type": "markdown",
   "id": "ee39f5e6",
   "metadata": {},
   "source": [
    "As we can see using lambda_mult = 0.5 not only gave relevant but different results as well."
   ]
  },
  {
   "cell_type": "markdown",
   "id": "d38141d4",
   "metadata": {},
   "source": [
    "# Multi Query Retriever"
   ]
  },
  {
   "cell_type": "code",
   "execution_count": null,
   "id": "a5827440",
   "metadata": {},
   "outputs": [],
   "source": [
    "from langchain_community.vectorstores import FAISS\n",
    "from langchain_openai import OpenAIEmbeddings\n",
    "from langchain_core.documents import Document\n",
    "from langchain_openai import ChatOpenAI\n",
    "# from langchain_google_genai import ChatGoogleGenerativeAI - the reason of not using it is that ChatOpenAI works well with OpenAIEmbeddings.\n",
    "from langchain.retrievers import MultiQueryRetriever"
   ]
  },
  {
   "cell_type": "code",
   "execution_count": 12,
   "id": "26838d0b",
   "metadata": {},
   "outputs": [
    {
     "data": {
      "text/plain": [
       "True"
      ]
     },
     "execution_count": 12,
     "metadata": {},
     "output_type": "execute_result"
    }
   ],
   "source": [
    "from dotenv import load_dotenv\n",
    "load_dotenv()"
   ]
  },
  {
   "cell_type": "code",
   "execution_count": 13,
   "id": "510cc792",
   "metadata": {},
   "outputs": [],
   "source": [
    "# Relevant health & wellness documents\n",
    "all_docs = [\n",
    "    Document(page_content=\"Regular walking boosts heart health and can reduce symptoms of depression.\", metadata={\"source\": \"H1\"}),\n",
    "    Document(page_content=\"Consuming leafy greens and fruits helps detox the body and improve longevity.\", metadata={\"source\": \"H2\"}),\n",
    "    Document(page_content=\"Deep sleep is crucial for cellular repair and emotional regulation.\", metadata={\"source\": \"H3\"}),\n",
    "    Document(page_content=\"Mindfulness and controlled breathing lower cortisol and improve mental clarity.\", metadata={\"source\": \"H4\"}),\n",
    "    Document(page_content=\"Drinking sufficient water throughout the day helps maintain metabolism and energy.\", metadata={\"source\": \"H5\"}),\n",
    "    Document(page_content=\"The solar energy system in modern homes helps balance electricity demand.\", metadata={\"source\": \"I1\"}),\n",
    "    Document(page_content=\"Python balances readability with power, making it a popular system design language.\", metadata={\"source\": \"I2\"}),\n",
    "    Document(page_content=\"Photosynthesis enables plants to produce energy by converting sunlight.\", metadata={\"source\": \"I3\"}),\n",
    "    Document(page_content=\"The 2022 FIFA World Cup was held in Qatar and drew global energy and excitement.\", metadata={\"source\": \"I4\"}),\n",
    "    Document(page_content=\"Black holes bend spacetime and store immense gravitational energy.\", metadata={\"source\": \"I5\"}),\n",
    "]"
   ]
  },
  {
   "cell_type": "code",
   "execution_count": 14,
   "id": "59b81889",
   "metadata": {},
   "outputs": [],
   "source": [
    "# Initalize OpenAI embeddings\n",
    "embedding_model = OpenAIEmbeddings()"
   ]
  },
  {
   "cell_type": "code",
   "execution_count": 15,
   "id": "b59c6a5e",
   "metadata": {},
   "outputs": [],
   "source": [
    "# Create FIASS vector store\n",
    "vectorstore = FAISS.from_documents(\n",
    "    documents=all_docs,\n",
    "    embedding=embedding_model\n",
    ")"
   ]
  },
  {
   "cell_type": "code",
   "execution_count": 16,
   "id": "39364e9b",
   "metadata": {},
   "outputs": [],
   "source": [
    "# Create retrievers\n",
    "similarity_retriever = vectorstore.as_retriever(search_type='similarity', search_kwargs={'k':5})"
   ]
  },
  {
   "cell_type": "code",
   "execution_count": 17,
   "id": "48f235e0",
   "metadata": {},
   "outputs": [],
   "source": [
    "multiquery_retriever = MultiQueryRetriever.from_llm(\n",
    "    retriever=vectorstore.as_retriever(search_kwargs={'k':5}),\n",
    "    llm=ChatOpenAI(model='gpt-4.1-nano')\n",
    ")"
   ]
  },
  {
   "cell_type": "code",
   "execution_count": 18,
   "id": "152e2867",
   "metadata": {},
   "outputs": [],
   "source": [
    "# Query\n",
    "query = 'How to improve energy levels and maintain balance?'"
   ]
  },
  {
   "cell_type": "code",
   "execution_count": 19,
   "id": "7cf0d68d",
   "metadata": {},
   "outputs": [],
   "source": [
    "# Retreved documents\n",
    "similarity_results = similarity_retriever.invoke(query)\n",
    "multiquery_results = multiquery_retriever.invoke(query)"
   ]
  },
  {
   "cell_type": "code",
   "execution_count": 20,
   "id": "8069721e",
   "metadata": {},
   "outputs": [
    {
     "name": "stdout",
     "output_type": "stream",
     "text": [
      "\n",
      "--- Result 1 ---\n",
      "Drinking sufficient water throughout the day helps maintain metabolism and energy.\n",
      "\n",
      "--- Result 2 ---\n",
      "Mindfulness and controlled breathing lower cortisol and improve mental clarity.\n",
      "\n",
      "--- Result 3 ---\n",
      "Regular walking boosts heart health and can reduce symptoms of depression.\n",
      "\n",
      "--- Result 4 ---\n",
      "Deep sleep is crucial for cellular repair and emotional regulation.\n",
      "\n",
      "--- Result 5 ---\n",
      "The solar energy system in modern homes helps balance electricity demand.\n",
      "----------------------------------------------------------------------------------------------------------------------------------------------------------------\n",
      "\n",
      "--- Result 1 ---\n",
      "Drinking sufficient water throughout the day helps maintain metabolism and energy.\n",
      "\n",
      "--- Result 2 ---\n",
      "Mindfulness and controlled breathing lower cortisol and improve mental clarity.\n",
      "\n",
      "--- Result 3 ---\n",
      "Deep sleep is crucial for cellular repair and emotional regulation.\n",
      "\n",
      "--- Result 4 ---\n",
      "Regular walking boosts heart health and can reduce symptoms of depression.\n",
      "\n",
      "--- Result 5 ---\n",
      "Consuming leafy greens and fruits helps detox the body and improve longevity.\n"
     ]
    }
   ],
   "source": [
    "for i, doc in enumerate(similarity_results):\n",
    "    print(f\"\\n--- Result {i+1} ---\")\n",
    "    print(doc.page_content)\n",
    "\n",
    "print('-'*160)\n",
    "\n",
    "for i, doc in enumerate(multiquery_results):\n",
    "    print(f'\\n--- Result {i+1} ---')\n",
    "    print(doc.page_content)"
   ]
  },
  {
   "cell_type": "markdown",
   "id": "275ae7d6",
   "metadata": {},
   "source": [
    "# Contextual Compression Retriever"
   ]
  },
  {
   "cell_type": "code",
   "execution_count": 32,
   "id": "4eb56ff4",
   "metadata": {},
   "outputs": [],
   "source": [
    "from langchain_community.vectorstores import FAISS\n",
    "from langchain_openai import OpenAIEmbeddings\n",
    "from langchain_google_genai import ChatGoogleGenerativeAI\n",
    "from langchain.retrievers.contextual_compression import ContextualCompressionRetriever\n",
    "from langchain.retrievers.document_compressors import LLMChainExtractor\n",
    "from langchain_core.documents import Document"
   ]
  },
  {
   "cell_type": "code",
   "execution_count": 33,
   "id": "c24a62dc",
   "metadata": {},
   "outputs": [],
   "source": [
    "# Recreate the document objects from the previous data\n",
    "docs = [\n",
    "    Document(page_content=(\n",
    "        \"\"\"The Grand Canyon is one of the most visited natural wonders in the world.\n",
    "        Photosynthesis is the process by which green plants convert sunlight into energy.\n",
    "        Millions of tourists travel to see it every year. The rocks date back millions of years.\"\"\"\n",
    "    ), metadata={\"source\": \"Doc1\"}),\n",
    "\n",
    "    Document(page_content=(\n",
    "        \"\"\"In medieval Europe, castles were built primarily for defense.\n",
    "        The chlorophyll in plant cells captures sunlight during photosynthesis.\n",
    "        Knights wore armor made of metal. Siege weapons were often used to breach castle walls.\"\"\"\n",
    "    ), metadata={\"source\": \"Doc2\"}),\n",
    "\n",
    "    Document(page_content=(\n",
    "        \"\"\"Basketball was invented by Dr. James Naismith in the late 19th century.\n",
    "        It was originally played with a soccer ball and peach baskets. NBA is now a global league.\"\"\"\n",
    "    ), metadata={\"source\": \"Doc3\"}),\n",
    "\n",
    "    Document(page_content=(\n",
    "        \"\"\"The history of cinema began in the late 1800s. Silent films were the earliest form.\n",
    "        Thomas Edison was among the pioneers. Photosynthesis does not occur in animal cells.\n",
    "        Modern filmmaking involves complex CGI and sound design.\"\"\"\n",
    "    ), metadata={\"source\": \"Doc4\"})\n",
    "]"
   ]
  },
  {
   "cell_type": "code",
   "execution_count": 34,
   "id": "15cd04ab",
   "metadata": {},
   "outputs": [],
   "source": [
    "# Create a FAISS vector store from the docuemnts\n",
    "embedding_model = OpenAIEmbeddings()\n",
    "vectorstore = FAISS.from_documents(docs, embedding_model)\n",
    "\n",
    "base_retriever = vectorstore.as_retriever(search_kwargs={'k':2})"
   ]
  },
  {
   "cell_type": "code",
   "execution_count": 35,
   "id": "da86f17f",
   "metadata": {},
   "outputs": [],
   "source": [
    "# Set up compressor using an LLM\n",
    "llm = ChatGoogleGenerativeAI(model='gemini-2.0-flash')\n",
    "compressor = LLMChainExtractor.from_llm(llm)"
   ]
  },
  {
   "cell_type": "code",
   "execution_count": 36,
   "id": "5071051a",
   "metadata": {},
   "outputs": [],
   "source": [
    "# Create a contextual compression retriever\n",
    "compression_retriever = ContextualCompressionRetriever(\n",
    "    base_retriever=base_retriever,\n",
    "    base_compressor=compressor\n",
    ")"
   ]
  },
  {
   "cell_type": "code",
   "execution_count": 37,
   "id": "86d1dee3",
   "metadata": {},
   "outputs": [],
   "source": [
    "# Query the retriever\n",
    "query = \"What is photosynthesis?\"\n",
    "compressed_results = compression_retriever.invoke(query)"
   ]
  },
  {
   "cell_type": "code",
   "execution_count": 38,
   "id": "25d359eb",
   "metadata": {},
   "outputs": [
    {
     "name": "stdout",
     "output_type": "stream",
     "text": [
      "\n",
      "--- Result 1 ---\n",
      "Photosynthesis is the process by which green plants convert sunlight into energy.\n",
      "\n",
      "--- Result 2 ---\n",
      "The chlorophyll in plant cells captures sunlight during photosynthesis.\n"
     ]
    }
   ],
   "source": [
    "for i, doc in enumerate(compressed_results):\n",
    "    print(f'\\n--- Result {i+1} ---')\n",
    "    print(doc.page_content)"
   ]
  },
  {
   "cell_type": "markdown",
   "id": "1bfa747a",
   "metadata": {},
   "source": [
    "Some more Retrievers are -\n",
    "1. ParentDocumentRetriever\n",
    "2. TimeWeightedVectorRetriever\n",
    "3. EnsembleRetriever\n",
    "4. ArxivRetriever\n",
    "5. MultiVectorRetriever\n",
    "6. BM25Retriever\n",
    "7. SelfQueryRetriever\n",
    "\n",
    "They can be furthur explored on - https://python.langchain.com/docs/integrations/retrievers/"
   ]
  }
 ],
 "metadata": {
  "kernelspec": {
   "display_name": "venv",
   "language": "python",
   "name": "python3"
  },
  "language_info": {
   "codemirror_mode": {
    "name": "ipython",
    "version": 3
   },
   "file_extension": ".py",
   "mimetype": "text/x-python",
   "name": "python",
   "nbconvert_exporter": "python",
   "pygments_lexer": "ipython3",
   "version": "3.12.7"
  }
 },
 "nbformat": 4,
 "nbformat_minor": 5
}
