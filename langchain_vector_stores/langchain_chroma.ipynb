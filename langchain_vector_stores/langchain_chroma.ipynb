{
 "cells": [
  {
   "cell_type": "code",
   "execution_count": 1,
   "id": "c57526e6",
   "metadata": {},
   "outputs": [],
   "source": [
    "# from langchain_google_genai import GoogleGenerativeAIEmbeddings - Does not give satisfactory results\n",
    "from langchain_openai import OpenAIEmbeddings\n",
    "from langchain.vectorstores import Chroma"
   ]
  },
  {
   "cell_type": "code",
   "execution_count": 2,
   "id": "9e5bf35c",
   "metadata": {},
   "outputs": [
    {
     "data": {
      "text/plain": [
       "True"
      ]
     },
     "execution_count": 2,
     "metadata": {},
     "output_type": "execute_result"
    }
   ],
   "source": [
    "from dotenv import load_dotenv\n",
    "load_dotenv()"
   ]
  },
  {
   "cell_type": "code",
   "execution_count": 3,
   "id": "395703af",
   "metadata": {},
   "outputs": [],
   "source": [
    "from langchain.schema import Document"
   ]
  },
  {
   "cell_type": "code",
   "execution_count": 4,
   "id": "2fcc2552",
   "metadata": {},
   "outputs": [],
   "source": [
    "# Create Langhcain documents for IPL players\n",
    "\n",
    "doc1 = Document(\n",
    "        page_content=\"Virat Kohli is one of the most successful and consistent batsmen in IPL history. Known for his aggressive batting style and fitness, he has led the Royal Challengers Bangalore in multiple seasons.\",\n",
    "        metadata={\"team\": \"Royal Challengers Bangalore\"}\n",
    "    )\n",
    "doc2 = Document(\n",
    "        page_content=\"Rohit Sharma is the most successful captain in IPL history, leading Mumbai Indians to five titles. He's known for his calm demeanor and ability to play big innings under pressure.\",\n",
    "        metadata={\"team\": \"Mumbai Indians\"}\n",
    "    )\n",
    "doc3 = Document(\n",
    "        page_content=\"MS Dhoni, famously known as Captain Cool, has led Chennai Super Kings to multiple IPL titles. His finishing skills, wicketkeeping, and leadership are legendary.\",\n",
    "        metadata={\"team\": \"Chennai Super Kings\"}\n",
    "    )\n",
    "doc4 = Document(\n",
    "        page_content=\"Jasprit Bumrah is considered one of the best fast bowlers in T20 cricket. Playing for Mumbai Indians, he is known for his yorkers and death-over expertise.\",\n",
    "        metadata={\"team\": \"Mumbai Indians\"}\n",
    "    )\n",
    "doc5 = Document(\n",
    "        page_content=\"Ravindra Jadeja is a dynamic all-rounder who contributes with both bat and ball. Representing Chennai Super Kings, his quick fielding and match-winning performances make him a key player.\",\n",
    "        metadata={\"team\": \"Chennai Super Kings\"}\n",
    "    )"
   ]
  },
  {
   "cell_type": "code",
   "execution_count": 5,
   "id": "d5249a79",
   "metadata": {},
   "outputs": [],
   "source": [
    "docs = [doc1, doc2, doc3, doc4, doc5]"
   ]
  },
  {
   "cell_type": "code",
   "execution_count": 6,
   "id": "b9763d77",
   "metadata": {},
   "outputs": [
    {
     "name": "stderr",
     "output_type": "stream",
     "text": [
      "C:\\Users\\hp\\AppData\\Local\\Temp\\ipykernel_15444\\851970811.py:1: LangChainDeprecationWarning: The class `Chroma` was deprecated in LangChain 0.2.9 and will be removed in 1.0. An updated version of the class exists in the :class:`~langchain-chroma package and should be used instead. To use it run `pip install -U :class:`~langchain-chroma` and import as `from :class:`~langchain_chroma import Chroma``.\n",
      "  vector_store = Chroma(\n"
     ]
    }
   ],
   "source": [
    "vector_store = Chroma(\n",
    "    # embedding_function=GoogleGenerativeAIEmbeddings(model='models/embedding-001'),\n",
    "    embedding_function=OpenAIEmbeddings(),\n",
    "    persist_directory='chroma_db',\n",
    "    collection_name='sample'\n",
    ")"
   ]
  },
  {
   "cell_type": "code",
   "execution_count": 7,
   "id": "54ac9a76",
   "metadata": {},
   "outputs": [
    {
     "data": {
      "text/plain": [
       "['12e49242-16fe-49e4-b6e3-64058368f18b',\n",
       " '04630dc6-1c11-4a27-be58-6d35785b315e',\n",
       " '9adce6ac-b9ef-4617-aa09-ff46adcd8cbb',\n",
       " 'fe967a21-2f13-4451-859e-4e5fa8c50318',\n",
       " '415d95cf-50a1-44e0-b9d7-dc796a8d547a']"
      ]
     },
     "execution_count": 7,
     "metadata": {},
     "output_type": "execute_result"
    }
   ],
   "source": [
    "# Add documents\n",
    "vector_store.add_documents(docs)"
   ]
  },
  {
   "cell_type": "markdown",
   "id": "021cf7b8",
   "metadata": {},
   "source": [
    "You can merge the creation of vector_store and adding documents in it using .from_documents -\n",
    "\n",
    "vector_store = Chroma.from_documents(\n",
    "    documents=docs,\n",
    "    embedding=OpenAIEmbeddings(),\n",
    "    persist_directory='chroma_db'\n",
    ")"
   ]
  },
  {
   "cell_type": "code",
   "execution_count": null,
   "id": "d4feab4a",
   "metadata": {},
   "outputs": [
    {
     "data": {
      "text/plain": [
       "{'ids': ['12e49242-16fe-49e4-b6e3-64058368f18b',\n",
       "  '04630dc6-1c11-4a27-be58-6d35785b315e',\n",
       "  '9adce6ac-b9ef-4617-aa09-ff46adcd8cbb',\n",
       "  'fe967a21-2f13-4451-859e-4e5fa8c50318',\n",
       "  '415d95cf-50a1-44e0-b9d7-dc796a8d547a'],\n",
       " 'embeddings': array([[-0.00210453, -0.00214285,  0.0268    , ..., -0.01707893,\n",
       "         -0.00366616,  0.01357884],\n",
       "        [-0.00268021, -0.00010323,  0.02815653, ..., -0.01501936,\n",
       "          0.00590092, -0.01164922],\n",
       "        [ 0.00092799, -0.00476   ,  0.0124662 , ..., -0.01731381,\n",
       "          0.00075886,  0.00296567],\n",
       "        [-0.02714536,  0.00885395,  0.02699314, ..., -0.02592762,\n",
       "          0.00900617, -0.01999116],\n",
       "        [-0.01810451,  0.01281202,  0.0347942 , ..., -0.03034012,\n",
       "         -0.00595078,  0.00521716]], shape=(5, 1536)),\n",
       " 'documents': ['Virat Kohli is one of the most successful and consistent batsmen in IPL history. Known for his aggressive batting style and fitness, he has led the Royal Challengers Bangalore in multiple seasons.',\n",
       "  \"Rohit Sharma is the most successful captain in IPL history, leading Mumbai Indians to five titles. He's known for his calm demeanor and ability to play big innings under pressure.\",\n",
       "  'MS Dhoni, famously known as Captain Cool, has led Chennai Super Kings to multiple IPL titles. His finishing skills, wicketkeeping, and leadership are legendary.',\n",
       "  'Jasprit Bumrah is considered one of the best fast bowlers in T20 cricket. Playing for Mumbai Indians, he is known for his yorkers and death-over expertise.',\n",
       "  'Ravindra Jadeja is a dynamic all-rounder who contributes with both bat and ball. Representing Chennai Super Kings, his quick fielding and match-winning performances make him a key player.'],\n",
       " 'uris': None,\n",
       " 'included': ['embeddings', 'documents', 'metadatas'],\n",
       " 'data': None,\n",
       " 'metadatas': [{'team': 'Royal Challengers Bangalore'},\n",
       "  {'team': 'Mumbai Indians'},\n",
       "  {'team': 'Chennai Super Kings'},\n",
       "  {'team': 'Mumbai Indians'},\n",
       "  {'team': 'Chennai Super Kings'}]}"
      ]
     },
     "execution_count": 8,
     "metadata": {},
     "output_type": "execute_result"
    }
   ],
   "source": [
    "# View documents\n",
    "vector_store.get(include=['embeddings','documents','metadatas'])\n",
    "# If you directly use .get() then - embeddings: None is shown because of their large size so use include if you want to see embeddings, but if you used from_documents then you need to pass arguments in get."
   ]
  },
  {
   "cell_type": "code",
   "execution_count": 9,
   "id": "ebaaed79",
   "metadata": {},
   "outputs": [
    {
     "data": {
      "text/plain": [
       "[Document(metadata={'team': 'Mumbai Indians'}, page_content='Jasprit Bumrah is considered one of the best fast bowlers in T20 cricket. Playing for Mumbai Indians, he is known for his yorkers and death-over expertise.'),\n",
       " Document(metadata={'team': 'Chennai Super Kings'}, page_content='Ravindra Jadeja is a dynamic all-rounder who contributes with both bat and ball. Representing Chennai Super Kings, his quick fielding and match-winning performances make him a key player.')]"
      ]
     },
     "execution_count": 9,
     "metadata": {},
     "output_type": "execute_result"
    }
   ],
   "source": [
    "# Search documents\n",
    "vector_store.similarity_search(\n",
    "    query='Who among these are a bowler',\n",
    "    k=2\n",
    ")"
   ]
  },
  {
   "cell_type": "code",
   "execution_count": 10,
   "id": "2fb440ff",
   "metadata": {},
   "outputs": [
    {
     "name": "stdout",
     "output_type": "stream",
     "text": [
      "Content: MS Dhoni, famously known as Captain Cool, has led Chennai Super Kings to multiple IPL titles. His finishing skills, wicketkeeping, and leadership are legendary.\n",
      "Metadata: {'team': 'Chennai Super Kings'}\n",
      "Content: Rohit Sharma is the most successful captain in IPL history, leading Mumbai Indians to five titles. He's known for his calm demeanor and ability to play big innings under pressure.\n",
      "Metadata: {'team': 'Mumbai Indians'}\n"
     ]
    }
   ],
   "source": [
    "query = \"Who is known as Captain Cool in IPL?\"\n",
    "results = vector_store.similarity_search(query, k=2)\n",
    "\n",
    "for res in results:\n",
    "    print(\"Content:\", res.page_content)\n",
    "    print(\"Metadata:\", res.metadata)"
   ]
  },
  {
   "cell_type": "code",
   "execution_count": 12,
   "id": "22ce33b6",
   "metadata": {},
   "outputs": [
    {
     "data": {
      "text/plain": [
       "[(Document(metadata={'team': 'Mumbai Indians'}, page_content='Jasprit Bumrah is considered one of the best fast bowlers in T20 cricket. Playing for Mumbai Indians, he is known for his yorkers and death-over expertise.'),\n",
       "  0.34610098600387573),\n",
       " (Document(metadata={'team': 'Chennai Super Kings'}, page_content='Ravindra Jadeja is a dynamic all-rounder who contributes with both bat and ball. Representing Chennai Super Kings, his quick fielding and match-winning performances make him a key player.'),\n",
       "  0.40785717964172363)]"
      ]
     },
     "execution_count": 12,
     "metadata": {},
     "output_type": "execute_result"
    }
   ],
   "source": [
    "# Search with similarity score\n",
    "vector_store.similarity_search_with_score(\n",
    "    query='Who among these are a bowler',\n",
    "    k=2\n",
    ")"
   ]
  },
  {
   "cell_type": "code",
   "execution_count": 13,
   "id": "dccaa2df",
   "metadata": {},
   "outputs": [
    {
     "data": {
      "text/plain": [
       "[(Document(metadata={'team': 'Chennai Super Kings'}, page_content='MS Dhoni, famously known as Captain Cool, has led Chennai Super Kings to multiple IPL titles. His finishing skills, wicketkeeping, and leadership are legendary.'),\n",
       "  0.6488258242607117),\n",
       " (Document(metadata={'team': 'Chennai Super Kings'}, page_content='Ravindra Jadeja is a dynamic all-rounder who contributes with both bat and ball. Representing Chennai Super Kings, his quick fielding and match-winning performances make him a key player.'),\n",
       "  0.6566494703292847)]"
      ]
     },
     "execution_count": 13,
     "metadata": {},
     "output_type": "execute_result"
    }
   ],
   "source": [
    "# Meta-data filtering\n",
    "vector_store.similarity_search_with_score(\n",
    "    query='',\n",
    "    filter={'team': 'Chennai Super Kings'}\n",
    ")"
   ]
  },
  {
   "cell_type": "code",
   "execution_count": 16,
   "id": "8e72601c",
   "metadata": {},
   "outputs": [],
   "source": [
    "# Update documents\n",
    "updated_doc1 = Document(\n",
    "    page_content=\"Virat Kohli, the former captain of Royal Challengers Bangalore (RCB), is renowned for his aggressive leadership and consistent batting performances. He holds the record for the most runs in IPL history, including multiple centuries in a single season. Despite RCB not winning an IPL title under his captaincy, Kohli's passion and fitness set a benchmark for the league. His ability to chase targets and anchor innings has made him one of the most dependable players in T20 cricket.\",\n",
    "    metadata={\"team\": \"Royal Challengers Bangalore\"}\n",
    ")\n",
    "\n",
    "vector_store.update_document(document_id='12e49242-16fe-49e4-b6e3-64058368f18b', document=updated_doc1)"
   ]
  },
  {
   "cell_type": "code",
   "execution_count": 18,
   "id": "21e3de02",
   "metadata": {},
   "outputs": [
    {
     "data": {
      "text/plain": [
       "{'ids': ['12e49242-16fe-49e4-b6e3-64058368f18b',\n",
       "  '04630dc6-1c11-4a27-be58-6d35785b315e',\n",
       "  '9adce6ac-b9ef-4617-aa09-ff46adcd8cbb',\n",
       "  'fe967a21-2f13-4451-859e-4e5fa8c50318',\n",
       "  '415d95cf-50a1-44e0-b9d7-dc796a8d547a'],\n",
       " 'embeddings': array([[-0.00544442, -0.01907989,  0.00706373, ..., -0.01627786,\n",
       "         -0.00032134,  0.00724619],\n",
       "        [-0.00268021, -0.00010323,  0.02815653, ..., -0.01501936,\n",
       "          0.00590092, -0.01164922],\n",
       "        [ 0.00092799, -0.00476   ,  0.0124662 , ..., -0.01731381,\n",
       "          0.00075886,  0.00296567],\n",
       "        [-0.02714536,  0.00885395,  0.02699314, ..., -0.02592762,\n",
       "          0.00900617, -0.01999116],\n",
       "        [-0.01810451,  0.01281202,  0.0347942 , ..., -0.03034012,\n",
       "         -0.00595078,  0.00521716]], shape=(5, 1536)),\n",
       " 'documents': [\"Virat Kohli, the former captain of Royal Challengers Bangalore (RCB), is renowned for his aggressive leadership and consistent batting performances. He holds the record for the most runs in IPL history, including multiple centuries in a single season. Despite RCB not winning an IPL title under his captaincy, Kohli's passion and fitness set a benchmark for the league. His ability to chase targets and anchor innings has made him one of the most dependable players in T20 cricket.\",\n",
       "  \"Rohit Sharma is the most successful captain in IPL history, leading Mumbai Indians to five titles. He's known for his calm demeanor and ability to play big innings under pressure.\",\n",
       "  'MS Dhoni, famously known as Captain Cool, has led Chennai Super Kings to multiple IPL titles. His finishing skills, wicketkeeping, and leadership are legendary.',\n",
       "  'Jasprit Bumrah is considered one of the best fast bowlers in T20 cricket. Playing for Mumbai Indians, he is known for his yorkers and death-over expertise.',\n",
       "  'Ravindra Jadeja is a dynamic all-rounder who contributes with both bat and ball. Representing Chennai Super Kings, his quick fielding and match-winning performances make him a key player.'],\n",
       " 'uris': None,\n",
       " 'included': ['embeddings', 'documents', 'metadatas'],\n",
       " 'data': None,\n",
       " 'metadatas': [{'team': 'Royal Challengers Bangalore'},\n",
       "  {'team': 'Mumbai Indians'},\n",
       "  {'team': 'Chennai Super Kings'},\n",
       "  {'team': 'Mumbai Indians'},\n",
       "  {'team': 'Chennai Super Kings'}]}"
      ]
     },
     "execution_count": 18,
     "metadata": {},
     "output_type": "execute_result"
    }
   ],
   "source": [
    "# View docuemnt\n",
    "vector_store.get(include=['embeddings','documents','metadatas'])"
   ]
  },
  {
   "cell_type": "code",
   "execution_count": 19,
   "id": "83864ee8",
   "metadata": {},
   "outputs": [],
   "source": [
    "# Delete documents\n",
    "vector_store.delete(ids=['12e49242-16fe-49e4-b6e3-64058368f18b'])"
   ]
  },
  {
   "cell_type": "code",
   "execution_count": 20,
   "id": "2a3cce81",
   "metadata": {},
   "outputs": [
    {
     "data": {
      "text/plain": [
       "{'ids': ['04630dc6-1c11-4a27-be58-6d35785b315e',\n",
       "  '9adce6ac-b9ef-4617-aa09-ff46adcd8cbb',\n",
       "  'fe967a21-2f13-4451-859e-4e5fa8c50318',\n",
       "  '415d95cf-50a1-44e0-b9d7-dc796a8d547a'],\n",
       " 'embeddings': array([[-0.00268021, -0.00010323,  0.02815653, ..., -0.01501936,\n",
       "          0.00590092, -0.01164922],\n",
       "        [ 0.00092799, -0.00476   ,  0.0124662 , ..., -0.01731381,\n",
       "          0.00075886,  0.00296567],\n",
       "        [-0.02714536,  0.00885395,  0.02699314, ..., -0.02592762,\n",
       "          0.00900617, -0.01999116],\n",
       "        [-0.01810451,  0.01281202,  0.0347942 , ..., -0.03034012,\n",
       "         -0.00595078,  0.00521716]], shape=(4, 1536)),\n",
       " 'documents': [\"Rohit Sharma is the most successful captain in IPL history, leading Mumbai Indians to five titles. He's known for his calm demeanor and ability to play big innings under pressure.\",\n",
       "  'MS Dhoni, famously known as Captain Cool, has led Chennai Super Kings to multiple IPL titles. His finishing skills, wicketkeeping, and leadership are legendary.',\n",
       "  'Jasprit Bumrah is considered one of the best fast bowlers in T20 cricket. Playing for Mumbai Indians, he is known for his yorkers and death-over expertise.',\n",
       "  'Ravindra Jadeja is a dynamic all-rounder who contributes with both bat and ball. Representing Chennai Super Kings, his quick fielding and match-winning performances make him a key player.'],\n",
       " 'uris': None,\n",
       " 'included': ['embeddings', 'documents', 'metadatas'],\n",
       " 'data': None,\n",
       " 'metadatas': [{'team': 'Mumbai Indians'},\n",
       "  {'team': 'Chennai Super Kings'},\n",
       "  {'team': 'Mumbai Indians'},\n",
       "  {'team': 'Chennai Super Kings'}]}"
      ]
     },
     "execution_count": 20,
     "metadata": {},
     "output_type": "execute_result"
    }
   ],
   "source": [
    "# View documents\n",
    "vector_store.get(include=['embeddings','documents','metadatas'])"
   ]
  },
  {
   "cell_type": "code",
   "execution_count": null,
   "id": "b8be3f35",
   "metadata": {},
   "outputs": [],
   "source": []
  }
 ],
 "metadata": {
  "kernelspec": {
   "display_name": "venv",
   "language": "python",
   "name": "python3"
  },
  "language_info": {
   "codemirror_mode": {
    "name": "ipython",
    "version": 3
   },
   "file_extension": ".py",
   "mimetype": "text/x-python",
   "name": "python",
   "nbconvert_exporter": "python",
   "pygments_lexer": "ipython3",
   "version": "3.12.7"
  }
 },
 "nbformat": 4,
 "nbformat_minor": 5
}
